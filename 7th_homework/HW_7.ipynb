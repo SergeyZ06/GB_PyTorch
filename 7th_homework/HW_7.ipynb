{
 "cells": [
  {
   "cell_type": "markdown",
   "id": "2964963a",
   "metadata": {},
   "source": [
    "# Фреймворк PyTorch для разработки искусственных нейронных сетей"
   ]
  },
  {
   "cell_type": "markdown",
   "id": "ae3f0f08",
   "metadata": {},
   "source": [
    "## Урок 7. Рекурентные сети для обработки последовательностей"
   ]
  },
  {
   "cell_type": "markdown",
   "id": "b0c6fdaa",
   "metadata": {},
   "source": [
    "### Практическое задание"
   ]
  },
  {
   "cell_type": "markdown",
   "id": "352e4725",
   "metadata": {},
   "source": [
    "1. Попробуйте обучить нейронную сеть GRU/LSTM для предсказания сентимента сообщений с твитера на примере https://www.kaggle.com/datasets/arkhoshghalb/twitter-sentiment-analysis-hatred-speech\n",
    "\n",
    "\n",
    "2. Опишите, какой результат вы получили? Что помогло вам улучшить ее точность?\n",
    "\n",
    "У кого нет возможности работать через каггл (нет верификации), то можете данные взять по ссылке: https://disk.yandex.ru/d/LV1cYS1orMyRWA"
   ]
  },
  {
   "cell_type": "markdown",
   "id": "22b64e54",
   "metadata": {},
   "source": [
    "### Решение"
   ]
  },
  {
   "cell_type": "markdown",
   "id": "22c20958",
   "metadata": {},
   "source": [
    "#### Импорт библиотек"
   ]
  },
  {
   "cell_type": "code",
   "execution_count": 1,
   "id": "99bbeb32",
   "metadata": {},
   "outputs": [
    {
     "name": "stderr",
     "output_type": "stream",
     "text": [
      "C:\\Users\\SergeyZ06\\AppData\\Local\\Programs\\Python\\Python310\\lib\\site-packages\\numpy\\_distributor_init.py:30: UserWarning: loaded more than 1 DLL from .libs:\n",
      "C:\\Users\\SergeyZ06\\AppData\\Local\\Programs\\Python\\Python310\\lib\\site-packages\\numpy\\.libs\\libopenblas.EL2C6PLE4ZYW3ECEVIV3OXXGRN2NRFM2.gfortran-win_amd64.dll\n",
      "C:\\Users\\SergeyZ06\\AppData\\Local\\Programs\\Python\\Python310\\lib\\site-packages\\numpy\\.libs\\libopenblas.FB5AE2TYXYH2IJRDKGDGQ3XBKLKTF43H.gfortran-win_amd64.dll\n",
      "  warnings.warn(\"loaded more than 1 DLL from .libs:\"\n"
     ]
    }
   ],
   "source": [
    "import warnings\n",
    "\n",
    "import numpy as np\n",
    "import pandas as pd\n",
    "\n",
    "from string import punctuation\n",
    "from stop_words import get_stop_words\n",
    "# from pymorphy2 import MorphAnalyzer\n",
    "import re\n",
    "\n",
    "from nltk.stem import WordNetLemmatizer\n",
    "from nltk.probability import FreqDist\n",
    "\n",
    "from sklearn.model_selection import train_test_split\n",
    "from sklearn.metrics import f1_score\n",
    "from sklearn.metrics import classification_report\n",
    "\n",
    "import torch\n",
    "import torch.nn as nn\n",
    "import torch.nn.functional as F\n",
    "from torch.utils.data import DataLoader, Dataset\n",
    "\n",
    "import matplotlib.pyplot as plt"
   ]
  },
  {
   "cell_type": "markdown",
   "id": "845a3589",
   "metadata": {},
   "source": [
    "#### Настройки проекта"
   ]
  },
  {
   "cell_type": "code",
   "execution_count": 2,
   "id": "5d6398ea",
   "metadata": {},
   "outputs": [],
   "source": [
    "# Отключение предупреждений.\n",
    "warnings.filterwarnings('ignore') \n",
    "\n",
    "# Путь к данным.\n",
    "PATH_DATA = r'../6th lesson/train.csv'\n",
    "\n",
    "# Случайное зерно.\n",
    "GLOBAL__RANDOM_STATE = 0\n",
    "\n",
    "\n",
    "# Настройки обработки текста.\n",
    "\n",
    "# MAX_WORDS = 2000\n",
    "MAX_WORDS = 3000\n",
    "\n",
    "# MAX_LEN = 20\n",
    "MAX_LEN = 30\n",
    "\n",
    "NUM_CLASSES = 1"
   ]
  },
  {
   "cell_type": "markdown",
   "id": "781877e2",
   "metadata": {},
   "source": [
    "#### Подготовка данных"
   ]
  },
  {
   "cell_type": "code",
   "execution_count": 3,
   "id": "bfaa47f1",
   "metadata": {},
   "outputs": [],
   "source": [
    "# Загрузка данных.\n",
    "df = pd.read_csv(PATH_DATA, index_col='id')"
   ]
  },
  {
   "cell_type": "code",
   "execution_count": 4,
   "id": "3914d80f",
   "metadata": {},
   "outputs": [
    {
     "data": {
      "text/html": [
       "<div>\n",
       "<style scoped>\n",
       "    .dataframe tbody tr th:only-of-type {\n",
       "        vertical-align: middle;\n",
       "    }\n",
       "\n",
       "    .dataframe tbody tr th {\n",
       "        vertical-align: top;\n",
       "    }\n",
       "\n",
       "    .dataframe thead th {\n",
       "        text-align: right;\n",
       "    }\n",
       "</style>\n",
       "<table border=\"1\" class=\"dataframe\">\n",
       "  <thead>\n",
       "    <tr style=\"text-align: right;\">\n",
       "      <th></th>\n",
       "      <th>label</th>\n",
       "      <th>tweet</th>\n",
       "    </tr>\n",
       "    <tr>\n",
       "      <th>id</th>\n",
       "      <th></th>\n",
       "      <th></th>\n",
       "    </tr>\n",
       "  </thead>\n",
       "  <tbody>\n",
       "    <tr>\n",
       "      <th>1</th>\n",
       "      <td>0</td>\n",
       "      <td>@user when a father is dysfunctional and is s...</td>\n",
       "    </tr>\n",
       "    <tr>\n",
       "      <th>2</th>\n",
       "      <td>0</td>\n",
       "      <td>@user @user thanks for #lyft credit i can't us...</td>\n",
       "    </tr>\n",
       "    <tr>\n",
       "      <th>3</th>\n",
       "      <td>0</td>\n",
       "      <td>bihday your majesty</td>\n",
       "    </tr>\n",
       "    <tr>\n",
       "      <th>4</th>\n",
       "      <td>0</td>\n",
       "      <td>#model   i love u take with u all the time in ...</td>\n",
       "    </tr>\n",
       "    <tr>\n",
       "      <th>5</th>\n",
       "      <td>0</td>\n",
       "      <td>factsguide: society now    #motivation</td>\n",
       "    </tr>\n",
       "  </tbody>\n",
       "</table>\n",
       "</div>"
      ],
      "text/plain": [
       "    label                                              tweet\n",
       "id                                                          \n",
       "1       0   @user when a father is dysfunctional and is s...\n",
       "2       0  @user @user thanks for #lyft credit i can't us...\n",
       "3       0                                bihday your majesty\n",
       "4       0  #model   i love u take with u all the time in ...\n",
       "5       0             factsguide: society now    #motivation"
      ]
     },
     "execution_count": 4,
     "metadata": {},
     "output_type": "execute_result"
    }
   ],
   "source": [
    "# Проверка: вывод вервых пяти строк.\n",
    "df.head()"
   ]
  },
  {
   "cell_type": "code",
   "execution_count": 5,
   "id": "a9690d9d",
   "metadata": {},
   "outputs": [
    {
     "data": {
      "text/plain": [
       "(31962, 2)"
      ]
     },
     "execution_count": 5,
     "metadata": {},
     "output_type": "execute_result"
    }
   ],
   "source": [
    "# Вывод размерности датасета.\n",
    "df.shape"
   ]
  },
  {
   "cell_type": "code",
   "execution_count": 6,
   "id": "6d7182cf",
   "metadata": {},
   "outputs": [],
   "source": [
    "# Инициализация инструмента лемматизации.\n",
    "lemmatizer = WordNetLemmatizer()"
   ]
  },
  {
   "cell_type": "code",
   "execution_count": 7,
   "id": "33e5b5f8",
   "metadata": {
    "scrolled": false
   },
   "outputs": [
    {
     "name": "stdout",
     "output_type": "stream",
     "text": [
      "cars\t->\tcar\n",
      "goes\t->\tgo\n"
     ]
    }
   ],
   "source": [
    "# Проверка: лемматизация слов.\n",
    "print(\n",
    "    f\"cars\\t->\\t{lemmatizer.lemmatize('cars')}\" \\\n",
    "    f\"\\ngoes\\t->\\t{lemmatizer.lemmatize('goes')}\"\n",
    ")"
   ]
  },
  {
   "cell_type": "code",
   "execution_count": 8,
   "id": "d1e03c82",
   "metadata": {},
   "outputs": [],
   "source": [
    "# Функция для подготовки текста:\n",
    "def text_preprocessing(text):\n",
    "    # удаление никнеймов,\n",
    "    text = text.replace('@user ', '')\n",
    "    \n",
    "    # удаление прочих небуквенных и числовых символов,\n",
    "    for symbol in punctuation:\n",
    "        text = text.replace(symbol, '')\n",
    "    \n",
    "    # приведение текста к нижнему регистру,\n",
    "    text = text.lower()\n",
    "    \n",
    "    # лемматизация слов в тексте,\n",
    "    text = [*map(lemmatizer.lemmatize, text.split())]\n",
    "    \n",
    "    # исключение некорректных слов и стоп-слов,\n",
    "    text = [word for word in text if word.isalnum()]\n",
    "    text = [word for word in text if word not in get_stop_words(language='en')]\n",
    "    \n",
    "    # соединение массива в строку.\n",
    "    text = \" \".join(text)\n",
    "    \n",
    "    return text"
   ]
  },
  {
   "cell_type": "code",
   "execution_count": 9,
   "id": "d162984b",
   "metadata": {},
   "outputs": [
    {
     "name": "stdout",
     "output_type": "stream",
     "text": [
      "CPU times: total: 1.5 s\n",
      "Wall time: 1.5 s\n"
     ]
    }
   ],
   "source": [
    "%%time\n",
    "\n",
    "\n",
    "# Предобработка твитов.\n",
    "df['tweet_preprocessed'] = df['tweet'].apply(lambda text: text_preprocessing(text))"
   ]
  },
  {
   "cell_type": "code",
   "execution_count": 10,
   "id": "61900d60",
   "metadata": {
    "scrolled": true
   },
   "outputs": [
    {
     "data": {
      "text/html": [
       "<div>\n",
       "<style scoped>\n",
       "    .dataframe tbody tr th:only-of-type {\n",
       "        vertical-align: middle;\n",
       "    }\n",
       "\n",
       "    .dataframe tbody tr th {\n",
       "        vertical-align: top;\n",
       "    }\n",
       "\n",
       "    .dataframe thead th {\n",
       "        text-align: right;\n",
       "    }\n",
       "</style>\n",
       "<table border=\"1\" class=\"dataframe\">\n",
       "  <thead>\n",
       "    <tr style=\"text-align: right;\">\n",
       "      <th></th>\n",
       "      <th>label</th>\n",
       "      <th>tweet</th>\n",
       "      <th>tweet_preprocessed</th>\n",
       "    </tr>\n",
       "    <tr>\n",
       "      <th>id</th>\n",
       "      <th></th>\n",
       "      <th></th>\n",
       "      <th></th>\n",
       "    </tr>\n",
       "  </thead>\n",
       "  <tbody>\n",
       "    <tr>\n",
       "      <th>1</th>\n",
       "      <td>0</td>\n",
       "      <td>@user when a father is dysfunctional and is s...</td>\n",
       "      <td>father dysfunctional selfish drag kid dysfunct...</td>\n",
       "    </tr>\n",
       "    <tr>\n",
       "      <th>2</th>\n",
       "      <td>0</td>\n",
       "      <td>@user @user thanks for #lyft credit i can't us...</td>\n",
       "      <td>thanks lyft credit cant use cause dont offer w...</td>\n",
       "    </tr>\n",
       "    <tr>\n",
       "      <th>3</th>\n",
       "      <td>0</td>\n",
       "      <td>bihday your majesty</td>\n",
       "      <td>bihday majesty</td>\n",
       "    </tr>\n",
       "    <tr>\n",
       "      <th>4</th>\n",
       "      <td>0</td>\n",
       "      <td>#model   i love u take with u all the time in ...</td>\n",
       "      <td>model love u take u time</td>\n",
       "    </tr>\n",
       "    <tr>\n",
       "      <th>5</th>\n",
       "      <td>0</td>\n",
       "      <td>factsguide: society now    #motivation</td>\n",
       "      <td>factsguide society now motivation</td>\n",
       "    </tr>\n",
       "  </tbody>\n",
       "</table>\n",
       "</div>"
      ],
      "text/plain": [
       "    label                                              tweet  \\\n",
       "id                                                             \n",
       "1       0   @user when a father is dysfunctional and is s...   \n",
       "2       0  @user @user thanks for #lyft credit i can't us...   \n",
       "3       0                                bihday your majesty   \n",
       "4       0  #model   i love u take with u all the time in ...   \n",
       "5       0             factsguide: society now    #motivation   \n",
       "\n",
       "                                   tweet_preprocessed  \n",
       "id                                                     \n",
       "1   father dysfunctional selfish drag kid dysfunct...  \n",
       "2   thanks lyft credit cant use cause dont offer w...  \n",
       "3                                      bihday majesty  \n",
       "4                            model love u take u time  \n",
       "5                   factsguide society now motivation  "
      ]
     },
     "execution_count": 10,
     "metadata": {},
     "output_type": "execute_result"
    }
   ],
   "source": [
    "# Проверка: вывод вервых пяти строк.\n",
    "df.head()"
   ]
  },
  {
   "cell_type": "code",
   "execution_count": 11,
   "id": "17ee97c9",
   "metadata": {},
   "outputs": [],
   "source": [
    "# Загрузка всех слов из твитов.\n",
    "words = \" \".join(df['tweet_preprocessed'])\n",
    "words = words.split()"
   ]
  },
  {
   "cell_type": "code",
   "execution_count": 12,
   "id": "7ace9406",
   "metadata": {
    "scrolled": false
   },
   "outputs": [
    {
     "data": {
      "text/plain": [
       "(['father',\n",
       "  'dysfunctional',\n",
       "  'selfish',\n",
       "  'drag',\n",
       "  'kid',\n",
       "  'dysfunction',\n",
       "  'run',\n",
       "  'thanks',\n",
       "  'lyft',\n",
       "  'credit'],\n",
       " 253334)"
      ]
     },
     "execution_count": 12,
     "metadata": {},
     "output_type": "execute_result"
    }
   ],
   "source": [
    "# Проверка: вывод первых десяти слов и общего количества слов.\n",
    "words[:10], len(words)"
   ]
  },
  {
   "cell_type": "code",
   "execution_count": 13,
   "id": "e3d8002f",
   "metadata": {},
   "outputs": [],
   "source": [
    "# Определение частоты каждого слова.\n",
    "top_words = FreqDist(words)"
   ]
  },
  {
   "cell_type": "code",
   "execution_count": 14,
   "id": "f56521d8",
   "metadata": {},
   "outputs": [
    {
     "data": {
      "text/plain": [
       "(FreqDist({'love': 2695, 'day': 2679, 'happy': 1662, 'u': 1645, 'amp': 1582, 'just': 1346, 'will': 1271, 'time': 1219, 'life': 1189, 'im': 1139, ...}),\n",
       " 37683)"
      ]
     },
     "execution_count": 14,
     "metadata": {},
     "output_type": "execute_result"
    }
   ],
   "source": [
    "# Проверка: вывод наиболее частых слов и количества уникальных слов во всех твитах.\n",
    "top_words, len(top_words)"
   ]
  },
  {
   "cell_type": "code",
   "execution_count": 15,
   "id": "7e655004",
   "metadata": {},
   "outputs": [],
   "source": [
    "# Формирование словаря наиболее частых слов.\n",
    "dict_top_words = dict((pair[0], pair[1]) for pair in top_words.most_common(MAX_WORDS - 1))"
   ]
  },
  {
   "cell_type": "code",
   "execution_count": 16,
   "id": "83cbfee4",
   "metadata": {},
   "outputs": [
    {
     "name": "stdout",
     "output_type": "stream",
     "text": [
      "love 2695\n",
      "day 2679\n",
      "happy 1662\n",
      "u 1645\n",
      "amp 1582\n",
      "just 1346\n"
     ]
    }
   ],
   "source": [
    "# Вывод первых шести наиболее частых слов и количества их вхождений в текст.\n",
    "i = 0\n",
    "\n",
    "for word, frequency in dict_top_words.items():\n",
    "    i += 1\n",
    "    print(word, frequency)\n",
    "    if i > 5:\n",
    "        break"
   ]
  },
  {
   "cell_type": "code",
   "execution_count": 17,
   "id": "4ac2f254",
   "metadata": {},
   "outputs": [],
   "source": [
    "# Формирование словаря индексов наиболее частых слов.\n",
    "dict_top_words = dict((word, index) for index, word in enumerate(dict_top_words.keys(), start=1))"
   ]
  },
  {
   "cell_type": "code",
   "execution_count": 18,
   "id": "e80b2d96",
   "metadata": {},
   "outputs": [
    {
     "name": "stdout",
     "output_type": "stream",
     "text": [
      "love 1\n",
      "day 2\n",
      "happy 3\n",
      "u 4\n",
      "amp 5\n",
      "just 6\n"
     ]
    }
   ],
   "source": [
    "# Вывод первых шести наиболее частых слов и их индексов.\n",
    "i = 0\n",
    "\n",
    "for word, index in dict_top_words.items():\n",
    "    i += 1\n",
    "    print(word, index)\n",
    "    if i > 5:\n",
    "        break"
   ]
  },
  {
   "cell_type": "code",
   "execution_count": 19,
   "id": "e1ae7087",
   "metadata": {},
   "outputs": [],
   "source": [
    "# Формирование списка наиболее частых слов.\n",
    "list_top_words = [*dict_top_words.keys()]"
   ]
  },
  {
   "cell_type": "code",
   "execution_count": 20,
   "id": "fe3ee667",
   "metadata": {},
   "outputs": [
    {
     "data": {
      "text/plain": [
       "(2999, 2999)"
      ]
     },
     "execution_count": 20,
     "metadata": {},
     "output_type": "execute_result"
    }
   ],
   "source": [
    "# Проверка: вывод длины словаря и списка.\n",
    "len(dict_top_words), len(list_top_words)"
   ]
  },
  {
   "cell_type": "code",
   "execution_count": 21,
   "id": "4e983db4",
   "metadata": {},
   "outputs": [],
   "source": [
    "# Функция для преобразования текста в числовую последовательность:\n",
    "def text_to_sequence(text, maxlen=MAX_LEN):\n",
    "    # разбиение строки на массив,\n",
    "    text = text.split()\n",
    "    \n",
    "    # фильтрация, останутся только индексы наиболее частых слов,\n",
    "    text = [dict_top_words[word] for word in text if word in list_top_words]\n",
    "    \n",
    "    # выбор первых MAX_LEN слов,\n",
    "    text = text[:MAX_LEN]\n",
    "    \n",
    "    # дополнение нулями, если не набралось 20 слов.\n",
    "    text = text + [0] * (MAX_LEN - len(text))\n",
    "    \n",
    "    return text"
   ]
  },
  {
   "cell_type": "code",
   "execution_count": 22,
   "id": "24526fd0",
   "metadata": {},
   "outputs": [
    {
     "data": {
      "text/plain": [
       "id\n",
       "1    father dysfunctional selfish drag kid dysfunct...\n",
       "2    thanks lyft credit cant use cause dont offer w...\n",
       "3                                       bihday majesty\n",
       "4                             model love u take u time\n",
       "5                    factsguide society now motivation\n",
       "Name: tweet_preprocessed, dtype: object"
      ]
     },
     "execution_count": 22,
     "metadata": {},
     "output_type": "execute_result"
    }
   ],
   "source": [
    "# Твиты до токенизации.\n",
    "df['tweet_preprocessed'].head()"
   ]
  },
  {
   "cell_type": "code",
   "execution_count": 23,
   "id": "91919b94",
   "metadata": {},
   "outputs": [
    {
     "data": {
      "text/plain": [
       "id\n",
       "1    [19, 2973, 129, 338, 0, 0, 0, 0, 0, 0, 0, 0, 0...\n",
       "2    [106, 2153, 25, 342, 497, 30, 1051, 0, 0, 0, 0...\n",
       "3    [24, 2974, 0, 0, 0, 0, 0, 0, 0, 0, 0, 0, 0, 0,...\n",
       "4    [83, 1, 4, 33, 4, 8, 0, 0, 0, 0, 0, 0, 0, 0, 0...\n",
       "5    [2562, 1222, 15, 215, 0, 0, 0, 0, 0, 0, 0, 0, ...\n",
       "Name: tweet_preprocessed, dtype: object"
      ]
     },
     "execution_count": 23,
     "metadata": {},
     "output_type": "execute_result"
    }
   ],
   "source": [
    "# Твиты после токенизации.\n",
    "df['tweet_preprocessed'].head().apply(lambda x: text_to_sequence(x))"
   ]
  },
  {
   "cell_type": "code",
   "execution_count": 24,
   "id": "bddeafd3",
   "metadata": {},
   "outputs": [
    {
     "data": {
      "text/plain": [
       "[19,\n",
       " 2973,\n",
       " 129,\n",
       " 338,\n",
       " 0,\n",
       " 0,\n",
       " 0,\n",
       " 0,\n",
       " 0,\n",
       " 0,\n",
       " 0,\n",
       " 0,\n",
       " 0,\n",
       " 0,\n",
       " 0,\n",
       " 0,\n",
       " 0,\n",
       " 0,\n",
       " 0,\n",
       " 0,\n",
       " 0,\n",
       " 0,\n",
       " 0,\n",
       " 0,\n",
       " 0,\n",
       " 0,\n",
       " 0,\n",
       " 0,\n",
       " 0,\n",
       " 0]"
      ]
     },
     "execution_count": 24,
     "metadata": {},
     "output_type": "execute_result"
    }
   ],
   "source": [
    "# Вывод токенов первого объекта.\n",
    "df['tweet_preprocessed'].head().apply(lambda x: text_to_sequence(x))[1]"
   ]
  },
  {
   "cell_type": "code",
   "execution_count": 25,
   "id": "69fdfc47",
   "metadata": {},
   "outputs": [
    {
     "data": {
      "text/plain": [
       "30"
      ]
     },
     "execution_count": 25,
     "metadata": {},
     "output_type": "execute_result"
    }
   ],
   "source": [
    "# Вывод длины токенов первого объекта.\n",
    "len(df['tweet_preprocessed'].head().apply(lambda x: text_to_sequence(x))[1])"
   ]
  },
  {
   "cell_type": "code",
   "execution_count": 26,
   "id": "2493b13b",
   "metadata": {},
   "outputs": [
    {
     "name": "stdout",
     "output_type": "stream",
     "text": [
      "CPU times: total: 3.14 s\n",
      "Wall time: 3.15 s\n"
     ]
    }
   ],
   "source": [
    "%%time\n",
    "\n",
    "\n",
    "# Токенизация всех твитов.\n",
    "df['tweet_tokenized'] = df['tweet_preprocessed'].apply(lambda x: text_to_sequence(x))"
   ]
  },
  {
   "cell_type": "code",
   "execution_count": 27,
   "id": "40ab69fc",
   "metadata": {
    "scrolled": true
   },
   "outputs": [
    {
     "data": {
      "text/html": [
       "<div>\n",
       "<style scoped>\n",
       "    .dataframe tbody tr th:only-of-type {\n",
       "        vertical-align: middle;\n",
       "    }\n",
       "\n",
       "    .dataframe tbody tr th {\n",
       "        vertical-align: top;\n",
       "    }\n",
       "\n",
       "    .dataframe thead th {\n",
       "        text-align: right;\n",
       "    }\n",
       "</style>\n",
       "<table border=\"1\" class=\"dataframe\">\n",
       "  <thead>\n",
       "    <tr style=\"text-align: right;\">\n",
       "      <th></th>\n",
       "      <th>label</th>\n",
       "      <th>tweet</th>\n",
       "      <th>tweet_preprocessed</th>\n",
       "      <th>tweet_tokenized</th>\n",
       "    </tr>\n",
       "    <tr>\n",
       "      <th>id</th>\n",
       "      <th></th>\n",
       "      <th></th>\n",
       "      <th></th>\n",
       "      <th></th>\n",
       "    </tr>\n",
       "  </thead>\n",
       "  <tbody>\n",
       "    <tr>\n",
       "      <th>1</th>\n",
       "      <td>0</td>\n",
       "      <td>@user when a father is dysfunctional and is s...</td>\n",
       "      <td>father dysfunctional selfish drag kid dysfunct...</td>\n",
       "      <td>[19, 2973, 129, 338, 0, 0, 0, 0, 0, 0, 0, 0, 0...</td>\n",
       "    </tr>\n",
       "    <tr>\n",
       "      <th>2</th>\n",
       "      <td>0</td>\n",
       "      <td>@user @user thanks for #lyft credit i can't us...</td>\n",
       "      <td>thanks lyft credit cant use cause dont offer w...</td>\n",
       "      <td>[106, 2153, 25, 342, 497, 30, 1051, 0, 0, 0, 0...</td>\n",
       "    </tr>\n",
       "    <tr>\n",
       "      <th>3</th>\n",
       "      <td>0</td>\n",
       "      <td>bihday your majesty</td>\n",
       "      <td>bihday majesty</td>\n",
       "      <td>[24, 2974, 0, 0, 0, 0, 0, 0, 0, 0, 0, 0, 0, 0,...</td>\n",
       "    </tr>\n",
       "    <tr>\n",
       "      <th>4</th>\n",
       "      <td>0</td>\n",
       "      <td>#model   i love u take with u all the time in ...</td>\n",
       "      <td>model love u take u time</td>\n",
       "      <td>[83, 1, 4, 33, 4, 8, 0, 0, 0, 0, 0, 0, 0, 0, 0...</td>\n",
       "    </tr>\n",
       "    <tr>\n",
       "      <th>5</th>\n",
       "      <td>0</td>\n",
       "      <td>factsguide: society now    #motivation</td>\n",
       "      <td>factsguide society now motivation</td>\n",
       "      <td>[2562, 1222, 15, 215, 0, 0, 0, 0, 0, 0, 0, 0, ...</td>\n",
       "    </tr>\n",
       "  </tbody>\n",
       "</table>\n",
       "</div>"
      ],
      "text/plain": [
       "    label                                              tweet  \\\n",
       "id                                                             \n",
       "1       0   @user when a father is dysfunctional and is s...   \n",
       "2       0  @user @user thanks for #lyft credit i can't us...   \n",
       "3       0                                bihday your majesty   \n",
       "4       0  #model   i love u take with u all the time in ...   \n",
       "5       0             factsguide: society now    #motivation   \n",
       "\n",
       "                                   tweet_preprocessed  \\\n",
       "id                                                      \n",
       "1   father dysfunctional selfish drag kid dysfunct...   \n",
       "2   thanks lyft credit cant use cause dont offer w...   \n",
       "3                                      bihday majesty   \n",
       "4                            model love u take u time   \n",
       "5                   factsguide society now motivation   \n",
       "\n",
       "                                      tweet_tokenized  \n",
       "id                                                     \n",
       "1   [19, 2973, 129, 338, 0, 0, 0, 0, 0, 0, 0, 0, 0...  \n",
       "2   [106, 2153, 25, 342, 497, 30, 1051, 0, 0, 0, 0...  \n",
       "3   [24, 2974, 0, 0, 0, 0, 0, 0, 0, 0, 0, 0, 0, 0,...  \n",
       "4   [83, 1, 4, 33, 4, 8, 0, 0, 0, 0, 0, 0, 0, 0, 0...  \n",
       "5   [2562, 1222, 15, 215, 0, 0, 0, 0, 0, 0, 0, 0, ...  "
      ]
     },
     "execution_count": 27,
     "metadata": {},
     "output_type": "execute_result"
    }
   ],
   "source": [
    "# Проверка: вывод вервых пяти строк.\n",
    "df.head()"
   ]
  },
  {
   "cell_type": "code",
   "execution_count": 28,
   "id": "ea340e47",
   "metadata": {},
   "outputs": [],
   "source": [
    "# Класс датасета.\n",
    "class DataWrapper(Dataset):\n",
    "    def __init__(self, data, target, transform=None):\n",
    "        self.data = torch.from_numpy(data).long()\n",
    "        self.target = torch.from_numpy(target).long()\n",
    "        self.transform = transform\n",
    "        \n",
    "    def __getitem__(self, index):\n",
    "        x = self.data[index]\n",
    "        y = self.target[index]\n",
    "        \n",
    "        if self.transform:\n",
    "            x = self.transform(x)\n",
    "            \n",
    "        return x, y\n",
    "    \n",
    "    def __len__(self):\n",
    "        return len(self.data)"
   ]
  },
  {
   "cell_type": "code",
   "execution_count": 29,
   "id": "d8d633f3",
   "metadata": {
    "scrolled": true
   },
   "outputs": [
    {
     "data": {
      "text/plain": [
       "((23971, 4), (7991, 4))"
      ]
     },
     "execution_count": 29,
     "metadata": {},
     "output_type": "execute_result"
    }
   ],
   "source": [
    "# Разбиение данных на обучающую и тестовую выборки.\n",
    "df_train, df_test = train_test_split(df, test_size=0.25, random_state=GLOBAL__RANDOM_STATE, stratify=df['label'])\n",
    "\n",
    "# Проверка: вывод размерностей.\n",
    "df_train.shape, df_test.shape"
   ]
  },
  {
   "cell_type": "code",
   "execution_count": 30,
   "id": "51edefe2",
   "metadata": {},
   "outputs": [],
   "source": [
    "# Формирование обучающих датасета и загрузчика.\n",
    "train_dataset = DataWrapper(np.array([*df_train['tweet_tokenized'].values]), df_train['label'].values)\n",
    "train_loader = DataLoader(train_dataset, batch_size=512, shuffle=True)\n",
    "\n",
    "# Формирование тестовых датасета и загрузчика.\n",
    "val_dataset = DataWrapper(np.array([*df_test['tweet_tokenized'].values]), df_test['label'].values)\n",
    "val_loader = DataLoader(val_dataset, batch_size=16, shuffle=True)"
   ]
  },
  {
   "cell_type": "code",
   "execution_count": 31,
   "id": "b3579cd5",
   "metadata": {},
   "outputs": [
    {
     "name": "stdout",
     "output_type": "stream",
     "text": [
      "Размерность тензора объекта:\ttorch.Size([30])\n",
      "Тензор:\n",
      "\ttensor([ 687,  328,   27, 1365,  122,   64,  257,  499,    0,    0,    0,    0,\n",
      "           0,    0,    0,    0,    0,    0,    0,    0,    0,    0,    0,    0,\n",
      "           0,    0,    0,    0,    0,    0])\n",
      "\n",
      "Размерность тензора ответов в батче:\ttorch.Size([512])\n",
      "Первый ответ в батче:\t1\n"
     ]
    }
   ],
   "source": [
    "# Проверка обучающего загрузчика.\n",
    "for x, y in train_loader:\n",
    "    print(f'Размерность тензора объекта:\\t{x[0].shape}')\n",
    "    print(f'Тензор:\\n\\t{x[0]}')\n",
    "    print(f'\\nРазмерность тензора ответов в батче:\\t{y.shape}')\n",
    "    print(f'Первый ответ в батче:\\t{y[0]}')\n",
    "    break"
   ]
  },
  {
   "cell_type": "markdown",
   "id": "b4b389b6",
   "metadata": {},
   "source": [
    "#### Построение модели"
   ]
  },
  {
   "cell_type": "code",
   "execution_count": 32,
   "id": "3d050d4c",
   "metadata": {},
   "outputs": [],
   "source": [
    "class LSTMFixedLen(nn.Module) :\n",
    "    def __init__(self, vocab_size, embedding_dim=128, hidden_dim=128, use_last=True):\n",
    "        super().__init__()\n",
    "        self.use_last = use_last\n",
    "        self.embeddings = nn.Embedding(vocab_size, embedding_dim, padding_idx=0)\n",
    "        self.lstm = nn.LSTM(embedding_dim, hidden_dim, num_layers=2, batch_first=True)\n",
    "        self.linear = nn.Linear(hidden_dim, 1)\n",
    "        self.dropout = nn.Dropout(0.2)\n",
    "        self.ht = 0\n",
    "        \n",
    "        \n",
    "    def forward(self, x):\n",
    "        x = self.embeddings(x)\n",
    "        x = self.dropout(x)\n",
    "        lstm_out, ht = self.lstm(x)\n",
    "#         lstm_out, self.ht = self.lstm(x, self.ht)\n",
    "       \n",
    "        if self.use_last:\n",
    "            last_tensor = lstm_out[:,-1,:]\n",
    "        else:\n",
    "            # use mean\n",
    "            last_tensor = torch.mean(lstm_out[:,:], dim=1)\n",
    "    \n",
    "        out = self.linear(last_tensor)\n",
    "        # print(out.shape)\n",
    "        return torch.sigmoid(out)"
   ]
  },
  {
   "cell_type": "code",
   "execution_count": 33,
   "id": "180dc8c3",
   "metadata": {},
   "outputs": [
    {
     "data": {
      "text/plain": [
       "'cpu'"
      ]
     },
     "execution_count": 33,
     "metadata": {},
     "output_type": "execute_result"
    }
   ],
   "source": [
    "# Инициализация модели.\n",
    "# model = Net(vocab_size=MAX_WORDS)\n",
    "model = LSTMFixedLen(MAX_WORDS, 128, 20, use_last=False)\n",
    "\n",
    "device = 'cuda' if torch.cuda.is_available() else 'cpu'\n",
    "device"
   ]
  },
  {
   "cell_type": "code",
   "execution_count": 34,
   "id": "c1b085d0",
   "metadata": {},
   "outputs": [
    {
     "name": "stdout",
     "output_type": "stream",
     "text": [
      "LSTMFixedLen(\n",
      "  (embeddings): Embedding(3000, 128, padding_idx=0)\n",
      "  (lstm): LSTM(128, 20, num_layers=2, batch_first=True)\n",
      "  (linear): Linear(in_features=20, out_features=1, bias=True)\n",
      "  (dropout): Dropout(p=0.2, inplace=False)\n",
      ")\n",
      "Parameters: 399381\n"
     ]
    }
   ],
   "source": [
    "# Вывод структуры и количества обучаемых параметров модели.\n",
    "print(model)\n",
    "print(\"Parameters:\", sum([param.nelement() for param in model.parameters()]))"
   ]
  },
  {
   "cell_type": "code",
   "execution_count": 35,
   "id": "f425801d",
   "metadata": {},
   "outputs": [],
   "source": [
    "# Оптимизатор и функция потерь.\n",
    "# optimizer = torch.optim.Adam(model.parameters(), lr=0.01)\n",
    "optimizer = torch.optim.Adam(model.parameters(), lr=0.001)\n",
    "criterion = nn.BCELoss()"
   ]
  },
  {
   "cell_type": "code",
   "execution_count": 36,
   "id": "66233483",
   "metadata": {
    "scrolled": false
   },
   "outputs": [
    {
     "name": "stdout",
     "output_type": "stream",
     "text": [
      "Epoch [1/10]. Step [47/47]. Loss: 0.355. Acc: 0.930. F1: 0.476. Test loss: 0.213. Test acc: 0.930. Test F1: 1.000.\n",
      "              precision    recall  f1-score   support\n",
      "\n",
      "           0       1.00      1.00      1.00         7\n",
      "\n",
      "    accuracy                           1.00         7\n",
      "   macro avg       1.00      1.00      1.00         7\n",
      "weighted avg       1.00      1.00      1.00         7\n",
      "\n",
      "Epoch [2/10]. Step [47/47]. Loss: 0.256. Acc: 0.930. F1: 0.481. Test loss: 0.064. Test acc: 0.930. Test F1: 1.000.\n",
      "              precision    recall  f1-score   support\n",
      "\n",
      "           0       1.00      1.00      1.00         7\n",
      "\n",
      "    accuracy                           1.00         7\n",
      "   macro avg       1.00      1.00      1.00         7\n",
      "weighted avg       1.00      1.00      1.00         7\n",
      "\n",
      "Epoch [3/10]. Step [47/47]. Loss: 0.239. Acc: 0.930. F1: 0.481. Test loss: 0.067. Test acc: 0.930. Test F1: 1.000.\n",
      "              precision    recall  f1-score   support\n",
      "\n",
      "           0       1.00      1.00      1.00         7\n",
      "\n",
      "    accuracy                           1.00         7\n",
      "   macro avg       1.00      1.00      1.00         7\n",
      "weighted avg       1.00      1.00      1.00         7\n",
      "\n",
      "Epoch [4/10]. Step [47/47]. Loss: 0.188. Acc: 0.930. F1: 0.486. Test loss: 1.080. Test acc: 0.930. Test F1: 0.364.\n",
      "              precision    recall  f1-score   support\n",
      "\n",
      "           0       0.57      1.00      0.73         4\n",
      "           1       0.00      0.00      0.00         3\n",
      "\n",
      "    accuracy                           0.57         7\n",
      "   macro avg       0.29      0.50      0.36         7\n",
      "weighted avg       0.33      0.57      0.42         7\n",
      "\n",
      "Epoch [5/10]. Step [47/47]. Loss: 0.156. Acc: 0.941. F1: 0.731. Test loss: 0.056. Test acc: 0.939. Test F1: 1.000.\n",
      "              precision    recall  f1-score   support\n",
      "\n",
      "           0       1.00      1.00      1.00         7\n",
      "\n",
      "    accuracy                           1.00         7\n",
      "   macro avg       1.00      1.00      1.00         7\n",
      "weighted avg       1.00      1.00      1.00         7\n",
      "\n",
      "Epoch [6/10]. Step [47/47]. Loss: 0.146. Acc: 0.947. F1: 0.718. Test loss: 0.102. Test acc: 0.941. Test F1: 1.000.\n",
      "              precision    recall  f1-score   support\n",
      "\n",
      "           0       1.00      1.00      1.00         6\n",
      "           1       1.00      1.00      1.00         1\n",
      "\n",
      "    accuracy                           1.00         7\n",
      "   macro avg       1.00      1.00      1.00         7\n",
      "weighted avg       1.00      1.00      1.00         7\n",
      "\n",
      "Epoch [7/10]. Step [47/47]. Loss: 0.131. Acc: 0.952. F1: 0.835. Test loss: 0.022. Test acc: 0.944. Test F1: 1.000.\n",
      "              precision    recall  f1-score   support\n",
      "\n",
      "           0       1.00      1.00      1.00         7\n",
      "\n",
      "    accuracy                           1.00         7\n",
      "   macro avg       1.00      1.00      1.00         7\n",
      "weighted avg       1.00      1.00      1.00         7\n",
      "\n",
      "Epoch [8/10]. Step [47/47]. Loss: 0.104. Acc: 0.955. F1: 0.865. Test loss: 0.015. Test acc: 0.942. Test F1: 1.000.\n",
      "              precision    recall  f1-score   support\n",
      "\n",
      "           0       1.00      1.00      1.00         7\n",
      "\n",
      "    accuracy                           1.00         7\n",
      "   macro avg       1.00      1.00      1.00         7\n",
      "weighted avg       1.00      1.00      1.00         7\n",
      "\n",
      "Epoch [9/10]. Step [47/47]. Loss: 0.166. Acc: 0.954. F1: 0.854. Test loss: 0.145. Test acc: 0.946. Test F1: 0.462.\n",
      "              precision    recall  f1-score   support\n",
      "\n",
      "           0       1.00      0.86      0.92         7\n",
      "           1       0.00      0.00      0.00         0\n",
      "\n",
      "    accuracy                           0.86         7\n",
      "   macro avg       0.50      0.43      0.46         7\n",
      "weighted avg       1.00      0.86      0.92         7\n",
      "\n",
      "Epoch [10/10]. Step [47/47]. Loss: 0.150. Acc: 0.958. F1: 0.802. Test loss: 0.475. Test acc: 0.949. Test F1: 0.788.\n",
      "              precision    recall  f1-score   support\n",
      "\n",
      "           0       0.83      1.00      0.91         5\n",
      "           1       1.00      0.50      0.67         2\n",
      "\n",
      "    accuracy                           0.86         7\n",
      "   macro avg       0.92      0.75      0.79         7\n",
      "weighted avg       0.88      0.86      0.84         7\n",
      "\n",
      "Training is finished!\n",
      "CPU times: total: 6min 30s\n",
      "Wall time: 50.4 s\n"
     ]
    }
   ],
   "source": [
    "%%time\n",
    "\n",
    "\n",
    "# Обучение и валидация модели на десяти эпохах.\n",
    "epochs = 10\n",
    "\n",
    "model = model.to(device)\n",
    "model.train()\n",
    "th = 0.5\n",
    "\n",
    "# Массивы для хранения значений функций потерь.\n",
    "train_loss_history = []\n",
    "test_loss_history = []\n",
    "\n",
    "# Массивы для хранения значений метрики F1-score.\n",
    "train_f1_history = []\n",
    "test_f1_history = []\n",
    "\n",
    "for epoch in range(epochs):  \n",
    "    running_items, running_right = 0.0, 0.0\n",
    "    for i, data in enumerate(train_loader, 0):\n",
    "        inputs, labels = data[0].to(device), data[1].to(device)\n",
    "        \n",
    "        # обнуляем градиент\n",
    "        optimizer.zero_grad()\n",
    "        outputs = model(inputs)\n",
    "        \n",
    "        loss = criterion(outputs, labels.float().view(-1, 1))\n",
    "        loss.backward()\n",
    "        optimizer.step()\n",
    "\n",
    "        # подсчет ошибки на обучении\n",
    "        loss = loss.item()\n",
    "        running_items += len(labels)\n",
    "        # подсчет метрики на обучении\n",
    "        pred_labels = torch.squeeze((outputs > th).int())\n",
    "        running_right += (labels == pred_labels).sum()\n",
    "        \n",
    "        \n",
    "    # выводим статистику о процессе обучения\n",
    "    model.eval()\n",
    "    \n",
    "    # Вычисление метрики на обучающей выборке.\n",
    "    f1_train = f1_score(labels.numpy(), pred_labels.numpy(), average='macro', zero_division=0)\n",
    "    train_f1_history.append(f1_train)\n",
    "    \n",
    "    print(f'Epoch [{epoch + 1}/{epochs}]. ' \\\n",
    "            f'Step [{i + 1}/{len(train_loader)}]. ' \\\n",
    "            f'Loss: {loss:.3f}. ' \\\n",
    "            f'Acc: {running_right / running_items:.3f}. ' \\\n",
    "            f'F1: {f1_train:.3f}', end='. ')\n",
    "    running_loss, running_items, running_right = 0.0, 0.0, 0.0\n",
    "    train_loss_history.append(loss)\n",
    "\n",
    "        # выводим статистику на тестовых данных\n",
    "    test_running_right, test_running_total, test_loss = 0.0, 0.0, 0.0\n",
    "    for j, data in enumerate(val_loader):\n",
    "        test_labels = data[1].to(device)\n",
    "        test_outputs = model(data[0].to(device))\n",
    "        \n",
    "        # подсчет ошибки на тесте\n",
    "        test_loss = criterion(test_outputs, test_labels.float().view(-1, 1))\n",
    "        # подсчет метрики на тесте\n",
    "        test_running_total += len(data[1])\n",
    "        pred_test_labels = torch.squeeze((test_outputs > th).int())\n",
    "        test_running_right += (test_labels == pred_test_labels).sum()\n",
    "    \n",
    "    # Вычисление метрики на тестовой выборке.\n",
    "    f1_test = f1_score(test_labels.numpy(), pred_test_labels.numpy(), average='macro', zero_division=0)\n",
    "    test_f1_history.append(f1_test)\n",
    "    \n",
    "    test_loss_history.append(test_loss.item())\n",
    "    print(f'Test loss: {test_loss:.3f}. Test acc: {test_running_right / test_running_total:.3f}. Test F1: {f1_test:.3f}.')\n",
    "    print(classification_report(test_labels.numpy(), pred_test_labels.numpy()))\n",
    "    \n",
    "    model.train()\n",
    "        \n",
    "print('Training is finished!')"
   ]
  },
  {
   "cell_type": "code",
   "execution_count": 37,
   "id": "32b6a1db",
   "metadata": {
    "scrolled": false
   },
   "outputs": [
    {
     "data": {
      "image/png": "[encoded data removed]",
      "text/plain": [
       "<Figure size 864x432 with 1 Axes>"
      ]
     },
     "metadata": {
      "needs_background": "light"
     },
     "output_type": "display_data"
    }
   ],
   "source": [
    "# Визуализация функций потерь на обучающей и тестовой выборках.\n",
    "plt.figure(figsize=(12, 6))\n",
    "plt.title('Loss history', fontdict={'size': 16})\n",
    "plt.grid(True)\n",
    "plt.ylabel('Loss', fontdict={'size': 14})\n",
    "plt.xlabel('Epoch', fontdict={'size': 14})\n",
    "plt.plot(train_loss_history, label='train')\n",
    "plt.plot(test_loss_history, label='test')\n",
    "plt.legend();"
   ]
  },
  {
   "cell_type": "code",
   "execution_count": 38,
   "id": "81cd13d6",
   "metadata": {},
   "outputs": [
    {
     "data": {
      "image/png": "[encoded data removed]",
      "text/plain": [
       "<Figure size 864x432 with 1 Axes>"
      ]
     },
     "metadata": {
      "needs_background": "light"
     },
     "output_type": "display_data"
    }
   ],
   "source": [
    "# Визуализация метрики качества на обучающей и тестовой выборках.\n",
    "plt.figure(figsize=(12, 6))\n",
    "plt.title('F1 score history', fontdict={'size': 16})\n",
    "plt.grid(True)\n",
    "plt.ylabel('F1 score', fontdict={'size': 14})\n",
    "plt.xlabel('Epoch', fontdict={'size': 14})\n",
    "plt.plot(train_f1_history, label='train')\n",
    "plt.plot(test_f1_history, label='test')\n",
    "plt.legend();"
   ]
  },
  {
   "cell_type": "code",
   "execution_count": 39,
   "id": "491cfe89",
   "metadata": {},
   "outputs": [
    {
     "data": {
      "text/plain": [
       "label\n",
       "0        92.99%\n",
       "1         7.01%\n",
       "dtype: object"
      ]
     },
     "execution_count": 39,
     "metadata": {},
     "output_type": "execute_result"
    }
   ],
   "source": [
    "# Вывод информации о балансе классов.\n",
    "df[['label']].value_counts(normalize=True).apply(lambda x: f'{x:.2%}')"
   ]
  },
  {
   "cell_type": "markdown",
   "id": "c0ad8f81",
   "metadata": {},
   "source": [
    "Из-за значительного дисбаланса классов, более чем 13-кратной разницы, модель плохо обучается и идентифицирует объекты наименьшего класса.\n",
    "\n",
    "Увеличение количества наиболее частых слов и длины последовательности позволило незначительно улучшить качество прогноза модели на тестовой выборке."
   ]
  },
  {
   "cell_type": "code",
   "execution_count": null,
   "id": "e476a87e",
   "metadata": {},
   "outputs": [],
   "source": []
  }
 ],
 "metadata": {
  "kernelspec": {
   "display_name": "Python 3 (ipykernel)",
   "language": "python",
   "name": "python3"
  },
  "language_info": {
   "codemirror_mode": {
    "name": "ipython",
    "version": 3
   },
   "file_extension": ".py",
   "mimetype": "text/x-python",
   "name": "python",
   "nbconvert_exporter": "python",
   "pygments_lexer": "ipython3",
   "version": "3.10.4"
  },
  "toc": {
   "base_numbering": 1,
   "nav_menu": {},
   "number_sections": false,
   "sideBar": true,
   "skip_h1_title": false,
   "title_cell": "Table of Contents",
   "title_sidebar": "Contents",
   "toc_cell": false,
   "toc_position": {},
   "toc_section_display": true,
   "toc_window_display": false
  },
  "varInspector": {
   "cols": {
    "lenName": 16,
    "lenType": 16,
    "lenVar": 40
   },
   "kernels_config": {
    "python": {
     "delete_cmd_postfix": "",
     "delete_cmd_prefix": "del ",
     "library": "var_list.py",
     "varRefreshCmd": "print(var_dic_list())"
    },
    "r": {
     "delete_cmd_postfix": ") ",
     "delete_cmd_prefix": "rm(",
     "library": "var_list.r",
     "varRefreshCmd": "cat(var_dic_list()) "
    }
   },
   "types_to_exclude": [
    "module",
    "function",
    "builtin_function_or_method",
    "instance",
    "_Feature"
   ],
   "window_display": false
  }
 },
 "nbformat": 4,
 "nbformat_minor": 5
}
