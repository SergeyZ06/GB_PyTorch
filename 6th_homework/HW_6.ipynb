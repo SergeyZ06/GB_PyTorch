{
 "cells": [
  {
   "cell_type": "markdown",
   "id": "2964963a",
   "metadata": {},
   "source": [
    "# Фреймворк PyTorch для разработки искусственных нейронных сетей"
   ]
  },
  {
   "cell_type": "markdown",
   "id": "ae3f0f08",
   "metadata": {},
   "source": [
    "## Урок 6. Нейросети в обработке текста"
   ]
  },
  {
   "cell_type": "markdown",
   "id": "b0c6fdaa",
   "metadata": {},
   "source": [
    "### Практическое задание"
   ]
  },
  {
   "cell_type": "markdown",
   "id": "352e4725",
   "metadata": {},
   "source": [
    "1. Попробуйте обучить нейронную сеть с применением одномерных сверток для предсказания сентимента сообщений с твитера на примере https://www.kaggle.com/datasets/arkhoshghalb/twitter-sentiment-analysis-hatred-speech\n",
    "\n",
    "\n",
    "2. Опишите, какой результат вы получили? Что помогло вам улучшить ее точность?\n",
    "\n",
    "У кого нет возможности работать через каггл (нет верификации), то можете данные взять по ссылке: https://disk.yandex.ru/d/LV1cYS1orMyRWA"
   ]
  },
  {
   "cell_type": "markdown",
   "id": "22b64e54",
   "metadata": {},
   "source": [
    "### Решение"
   ]
  },
  {
   "cell_type": "markdown",
   "id": "22c20958",
   "metadata": {},
   "source": [
    "#### Импорт библиотек"
   ]
  },
  {
   "cell_type": "code",
   "execution_count": 1,
   "id": "99bbeb32",
   "metadata": {},
   "outputs": [
    {
     "name": "stderr",
     "output_type": "stream",
     "text": [
      "C:\\Users\\SergeyZ06\\AppData\\Local\\Programs\\Python\\Python310\\lib\\site-packages\\numpy\\_distributor_init.py:30: UserWarning: loaded more than 1 DLL from .libs:\n",
      "C:\\Users\\SergeyZ06\\AppData\\Local\\Programs\\Python\\Python310\\lib\\site-packages\\numpy\\.libs\\libopenblas.EL2C6PLE4ZYW3ECEVIV3OXXGRN2NRFM2.gfortran-win_amd64.dll\n",
      "C:\\Users\\SergeyZ06\\AppData\\Local\\Programs\\Python\\Python310\\lib\\site-packages\\numpy\\.libs\\libopenblas.FB5AE2TYXYH2IJRDKGDGQ3XBKLKTF43H.gfortran-win_amd64.dll\n",
      "  warnings.warn(\"loaded more than 1 DLL from .libs:\"\n"
     ]
    }
   ],
   "source": [
    "import numpy as np\n",
    "import pandas as pd\n",
    "\n",
    "from string import punctuation\n",
    "from stop_words import get_stop_words\n",
    "# from pymorphy2 import MorphAnalyzer\n",
    "import re\n",
    "\n",
    "from nltk.stem import WordNetLemmatizer\n",
    "from nltk.probability import FreqDist\n",
    "\n",
    "from sklearn.model_selection import train_test_split\n",
    "\n",
    "import torch\n",
    "import torch.nn as nn\n",
    "import torch.nn.functional as F\n",
    "from torch.utils.data import DataLoader, Dataset"
   ]
  },
  {
   "cell_type": "markdown",
   "id": "845a3589",
   "metadata": {},
   "source": [
    "#### Настройки проекта"
   ]
  },
  {
   "cell_type": "code",
   "execution_count": 2,
   "id": "5d6398ea",
   "metadata": {},
   "outputs": [],
   "source": [
    "# Путь к данным.\n",
    "PATH_DATA = r'train.csv'\n",
    "\n",
    "# Случайное зерно.\n",
    "GLOBAL__RANDOM_STATE = 0\n",
    "\n",
    "# Настройки обработки текста.\n",
    "MAX_WORDS = 2000\n",
    "MAX_LEN = 20\n",
    "NUM_CLASSES = 1"
   ]
  },
  {
   "cell_type": "markdown",
   "id": "781877e2",
   "metadata": {},
   "source": [
    "#### Подготовка данных"
   ]
  },
  {
   "cell_type": "code",
   "execution_count": 3,
   "id": "bfaa47f1",
   "metadata": {},
   "outputs": [],
   "source": [
    "# Загрузка данных.\n",
    "df = pd.read_csv(PATH_DATA, index_col='id')"
   ]
  },
  {
   "cell_type": "code",
   "execution_count": 4,
   "id": "3914d80f",
   "metadata": {},
   "outputs": [
    {
     "data": {
      "text/html": [
       "<div>\n",
       "<style scoped>\n",
       "    .dataframe tbody tr th:only-of-type {\n",
       "        vertical-align: middle;\n",
       "    }\n",
       "\n",
       "    .dataframe tbody tr th {\n",
       "        vertical-align: top;\n",
       "    }\n",
       "\n",
       "    .dataframe thead th {\n",
       "        text-align: right;\n",
       "    }\n",
       "</style>\n",
       "<table border=\"1\" class=\"dataframe\">\n",
       "  <thead>\n",
       "    <tr style=\"text-align: right;\">\n",
       "      <th></th>\n",
       "      <th>label</th>\n",
       "      <th>tweet</th>\n",
       "    </tr>\n",
       "    <tr>\n",
       "      <th>id</th>\n",
       "      <th></th>\n",
       "      <th></th>\n",
       "    </tr>\n",
       "  </thead>\n",
       "  <tbody>\n",
       "    <tr>\n",
       "      <th>1</th>\n",
       "      <td>0</td>\n",
       "      <td>@user when a father is dysfunctional and is s...</td>\n",
       "    </tr>\n",
       "    <tr>\n",
       "      <th>2</th>\n",
       "      <td>0</td>\n",
       "      <td>@user @user thanks for #lyft credit i can't us...</td>\n",
       "    </tr>\n",
       "    <tr>\n",
       "      <th>3</th>\n",
       "      <td>0</td>\n",
       "      <td>bihday your majesty</td>\n",
       "    </tr>\n",
       "    <tr>\n",
       "      <th>4</th>\n",
       "      <td>0</td>\n",
       "      <td>#model   i love u take with u all the time in ...</td>\n",
       "    </tr>\n",
       "    <tr>\n",
       "      <th>5</th>\n",
       "      <td>0</td>\n",
       "      <td>factsguide: society now    #motivation</td>\n",
       "    </tr>\n",
       "  </tbody>\n",
       "</table>\n",
       "</div>"
      ],
      "text/plain": [
       "    label                                              tweet\n",
       "id                                                          \n",
       "1       0   @user when a father is dysfunctional and is s...\n",
       "2       0  @user @user thanks for #lyft credit i can't us...\n",
       "3       0                                bihday your majesty\n",
       "4       0  #model   i love u take with u all the time in ...\n",
       "5       0             factsguide: society now    #motivation"
      ]
     },
     "execution_count": 4,
     "metadata": {},
     "output_type": "execute_result"
    }
   ],
   "source": [
    "# Проверка: вывод вервых пяти строк.\n",
    "df.head()"
   ]
  },
  {
   "cell_type": "code",
   "execution_count": 5,
   "id": "a9690d9d",
   "metadata": {},
   "outputs": [
    {
     "data": {
      "text/plain": [
       "(31962, 2)"
      ]
     },
     "execution_count": 5,
     "metadata": {},
     "output_type": "execute_result"
    }
   ],
   "source": [
    "# Вывод размерности датасета.\n",
    "df.shape"
   ]
  },
  {
   "cell_type": "code",
   "execution_count": 6,
   "id": "6d7182cf",
   "metadata": {},
   "outputs": [],
   "source": [
    "# Инициализация инструмента лемматизации.\n",
    "lemmatizer = WordNetLemmatizer()"
   ]
  },
  {
   "cell_type": "code",
   "execution_count": 7,
   "id": "33e5b5f8",
   "metadata": {
    "scrolled": false
   },
   "outputs": [
    {
     "name": "stdout",
     "output_type": "stream",
     "text": [
      "cars\t->\tcar\n",
      "goes\t->\tgo\n"
     ]
    }
   ],
   "source": [
    "# Проверка: лемматизация слов.\n",
    "print(\n",
    "    f\"cars\\t->\\t{lemmatizer.lemmatize('cars')}\" \\\n",
    "    f\"\\ngoes\\t->\\t{lemmatizer.lemmatize('goes')}\"\n",
    ")"
   ]
  },
  {
   "cell_type": "code",
   "execution_count": 8,
   "id": "d1e03c82",
   "metadata": {},
   "outputs": [],
   "source": [
    "# Функция для подготовки текста:\n",
    "def text_preprocessing(text):\n",
    "    # удаление никнеймов,\n",
    "    text = text.replace('@user ', '')\n",
    "    \n",
    "    # удаление прочих небуквенных и числовых символов,\n",
    "    for symbol in punctuation:\n",
    "        text = text.replace(symbol, '')\n",
    "    \n",
    "    # приведение текста к нижнему регистру,\n",
    "    text = text.lower()\n",
    "    \n",
    "    # лемматизация слов в тексте,\n",
    "    text = [*map(lemmatizer.lemmatize, text.split())]\n",
    "    \n",
    "    # исключение некорректных слов и стоп-слов,\n",
    "    text = [word for word in text if word.isalnum()]\n",
    "    text = [word for word in text if word not in get_stop_words(language='en')]\n",
    "    \n",
    "    # соединение массива в строку.\n",
    "    text = \" \".join(text)\n",
    "    \n",
    "    return text"
   ]
  },
  {
   "cell_type": "code",
   "execution_count": 9,
   "id": "d162984b",
   "metadata": {},
   "outputs": [
    {
     "name": "stdout",
     "output_type": "stream",
     "text": [
      "CPU times: total: 1.53 s\n",
      "Wall time: 1.53 s\n"
     ]
    }
   ],
   "source": [
    "%%time\n",
    "\n",
    "\n",
    "# Предобработка твитов.\n",
    "df['tweet_preprocessed'] = df['tweet'].apply(lambda text: text_preprocessing(text))"
   ]
  },
  {
   "cell_type": "code",
   "execution_count": 10,
   "id": "61900d60",
   "metadata": {
    "scrolled": true
   },
   "outputs": [
    {
     "data": {
      "text/html": [
       "<div>\n",
       "<style scoped>\n",
       "    .dataframe tbody tr th:only-of-type {\n",
       "        vertical-align: middle;\n",
       "    }\n",
       "\n",
       "    .dataframe tbody tr th {\n",
       "        vertical-align: top;\n",
       "    }\n",
       "\n",
       "    .dataframe thead th {\n",
       "        text-align: right;\n",
       "    }\n",
       "</style>\n",
       "<table border=\"1\" class=\"dataframe\">\n",
       "  <thead>\n",
       "    <tr style=\"text-align: right;\">\n",
       "      <th></th>\n",
       "      <th>label</th>\n",
       "      <th>tweet</th>\n",
       "      <th>tweet_preprocessed</th>\n",
       "    </tr>\n",
       "    <tr>\n",
       "      <th>id</th>\n",
       "      <th></th>\n",
       "      <th></th>\n",
       "      <th></th>\n",
       "    </tr>\n",
       "  </thead>\n",
       "  <tbody>\n",
       "    <tr>\n",
       "      <th>1</th>\n",
       "      <td>0</td>\n",
       "      <td>@user when a father is dysfunctional and is s...</td>\n",
       "      <td>father dysfunctional selfish drag kid dysfunct...</td>\n",
       "    </tr>\n",
       "    <tr>\n",
       "      <th>2</th>\n",
       "      <td>0</td>\n",
       "      <td>@user @user thanks for #lyft credit i can't us...</td>\n",
       "      <td>thanks lyft credit cant use cause dont offer w...</td>\n",
       "    </tr>\n",
       "    <tr>\n",
       "      <th>3</th>\n",
       "      <td>0</td>\n",
       "      <td>bihday your majesty</td>\n",
       "      <td>bihday majesty</td>\n",
       "    </tr>\n",
       "    <tr>\n",
       "      <th>4</th>\n",
       "      <td>0</td>\n",
       "      <td>#model   i love u take with u all the time in ...</td>\n",
       "      <td>model love u take u time</td>\n",
       "    </tr>\n",
       "    <tr>\n",
       "      <th>5</th>\n",
       "      <td>0</td>\n",
       "      <td>factsguide: society now    #motivation</td>\n",
       "      <td>factsguide society now motivation</td>\n",
       "    </tr>\n",
       "  </tbody>\n",
       "</table>\n",
       "</div>"
      ],
      "text/plain": [
       "    label                                              tweet  \\\n",
       "id                                                             \n",
       "1       0   @user when a father is dysfunctional and is s...   \n",
       "2       0  @user @user thanks for #lyft credit i can't us...   \n",
       "3       0                                bihday your majesty   \n",
       "4       0  #model   i love u take with u all the time in ...   \n",
       "5       0             factsguide: society now    #motivation   \n",
       "\n",
       "                                   tweet_preprocessed  \n",
       "id                                                     \n",
       "1   father dysfunctional selfish drag kid dysfunct...  \n",
       "2   thanks lyft credit cant use cause dont offer w...  \n",
       "3                                      bihday majesty  \n",
       "4                            model love u take u time  \n",
       "5                   factsguide society now motivation  "
      ]
     },
     "execution_count": 10,
     "metadata": {},
     "output_type": "execute_result"
    }
   ],
   "source": [
    "# Проверка: вывод вервых пяти строк.\n",
    "df.head()"
   ]
  },
  {
   "cell_type": "code",
   "execution_count": 11,
   "id": "17ee97c9",
   "metadata": {},
   "outputs": [],
   "source": [
    "# Загрузка всех слов из твитов.\n",
    "words = \" \".join(df['tweet_preprocessed'])\n",
    "words = words.split()"
   ]
  },
  {
   "cell_type": "code",
   "execution_count": 12,
   "id": "7ace9406",
   "metadata": {
    "scrolled": false
   },
   "outputs": [
    {
     "data": {
      "text/plain": [
       "(['father',\n",
       "  'dysfunctional',\n",
       "  'selfish',\n",
       "  'drag',\n",
       "  'kid',\n",
       "  'dysfunction',\n",
       "  'run',\n",
       "  'thanks',\n",
       "  'lyft',\n",
       "  'credit'],\n",
       " 253334)"
      ]
     },
     "execution_count": 12,
     "metadata": {},
     "output_type": "execute_result"
    }
   ],
   "source": [
    "# Проверка: вывод первых десяти слов и общего количества слов.\n",
    "words[:10], len(words)"
   ]
  },
  {
   "cell_type": "code",
   "execution_count": 13,
   "id": "e3d8002f",
   "metadata": {},
   "outputs": [],
   "source": [
    "# Определение частоты каждого слова.\n",
    "top_words = FreqDist(words)"
   ]
  },
  {
   "cell_type": "code",
   "execution_count": 14,
   "id": "f56521d8",
   "metadata": {},
   "outputs": [
    {
     "data": {
      "text/plain": [
       "(FreqDist({'love': 2695, 'day': 2679, 'happy': 1662, 'u': 1645, 'amp': 1582, 'just': 1346, 'will': 1271, 'time': 1219, 'life': 1189, 'im': 1139, ...}),\n",
       " 37683)"
      ]
     },
     "execution_count": 14,
     "metadata": {},
     "output_type": "execute_result"
    }
   ],
   "source": [
    "# Проверка: вывод наиболее частых слов и количества уникальных слов во всех твитах.\n",
    "top_words, len(top_words)"
   ]
  },
  {
   "cell_type": "code",
   "execution_count": 15,
   "id": "7e655004",
   "metadata": {},
   "outputs": [],
   "source": [
    "# Формирование словаря наиболее частых слов.\n",
    "dict_top_words = dict((pair[0], pair[1]) for pair in top_words.most_common(MAX_WORDS - 1))"
   ]
  },
  {
   "cell_type": "code",
   "execution_count": 16,
   "id": "e1ae7087",
   "metadata": {},
   "outputs": [],
   "source": [
    "# Формирование списка наиболее частых слов.\n",
    "list_top_words = [*dict_top_words.keys()]"
   ]
  },
  {
   "cell_type": "code",
   "execution_count": 17,
   "id": "fe3ee667",
   "metadata": {},
   "outputs": [
    {
     "data": {
      "text/plain": [
       "(1999, 1999)"
      ]
     },
     "execution_count": 17,
     "metadata": {},
     "output_type": "execute_result"
    }
   ],
   "source": [
    "# Проверка: вывод длины словаря и списка.\n",
    "len(dict_top_words), len(list_top_words)"
   ]
  },
  {
   "cell_type": "code",
   "execution_count": 18,
   "id": "4e983db4",
   "metadata": {},
   "outputs": [],
   "source": [
    "# Функция для преобразования текста в числовую последовательность:\n",
    "def text_to_sequence(text, maxlen=MAX_LEN):\n",
    "    # разбиение строки на массив,\n",
    "    text = text.split()\n",
    "    \n",
    "    # фильтрация, останутся только наиболее частые слова,\n",
    "    text = [top_words[word] for word in text if word in list_top_words]\n",
    "    \n",
    "    # выбор первых 20 слов,\n",
    "    text = text[:20]\n",
    "    \n",
    "    # дополнение нулями, если не набралось 20 слов.\n",
    "    text = text + [0] * (MAX_LEN - len(text))\n",
    "    \n",
    "    return text"
   ]
  },
  {
   "cell_type": "code",
   "execution_count": 19,
   "id": "24526fd0",
   "metadata": {},
   "outputs": [
    {
     "data": {
      "text/plain": [
       "id\n",
       "1    father dysfunctional selfish drag kid dysfunct...\n",
       "2    thanks lyft credit cant use cause dont offer w...\n",
       "3                                       bihday majesty\n",
       "4                             model love u take u time\n",
       "5                    factsguide society now motivation\n",
       "Name: tweet_preprocessed, dtype: object"
      ]
     },
     "execution_count": 19,
     "metadata": {},
     "output_type": "execute_result"
    }
   ],
   "source": [
    "# Твиты до токенизации.\n",
    "df['tweet_preprocessed'].head()"
   ]
  },
  {
   "cell_type": "code",
   "execution_count": 20,
   "id": "91919b94",
   "metadata": {},
   "outputs": [
    {
     "data": {
      "text/plain": [
       "id\n",
       "1    [903, 257, 117, 0, 0, 0, 0, 0, 0, 0, 0, 0, 0, ...\n",
       "2    [301, 802, 114, 78, 718, 36, 0, 0, 0, 0, 0, 0,...\n",
       "3    [824, 0, 0, 0, 0, 0, 0, 0, 0, 0, 0, 0, 0, 0, 0...\n",
       "4    [376, 2695, 1645, 672, 1645, 1219, 0, 0, 0, 0,...\n",
       "5    [30, 975, 173, 0, 0, 0, 0, 0, 0, 0, 0, 0, 0, 0...\n",
       "Name: tweet_preprocessed, dtype: object"
      ]
     },
     "execution_count": 20,
     "metadata": {},
     "output_type": "execute_result"
    }
   ],
   "source": [
    "# Твиты после токенизации.\n",
    "df['tweet_preprocessed'].head().apply(lambda x: text_to_sequence(x))"
   ]
  },
  {
   "cell_type": "code",
   "execution_count": 21,
   "id": "bddeafd3",
   "metadata": {},
   "outputs": [
    {
     "data": {
      "text/plain": [
       "[903, 257, 117, 0, 0, 0, 0, 0, 0, 0, 0, 0, 0, 0, 0, 0, 0, 0, 0, 0]"
      ]
     },
     "execution_count": 21,
     "metadata": {},
     "output_type": "execute_result"
    }
   ],
   "source": [
    "# Вывод токенов первого объекта.\n",
    "df['tweet_preprocessed'].head().apply(lambda x: text_to_sequence(x))[1]"
   ]
  },
  {
   "cell_type": "code",
   "execution_count": 22,
   "id": "69fdfc47",
   "metadata": {},
   "outputs": [
    {
     "data": {
      "text/plain": [
       "20"
      ]
     },
     "execution_count": 22,
     "metadata": {},
     "output_type": "execute_result"
    }
   ],
   "source": [
    "# Вывод длины токенов первого объекта.\n",
    "len(df['tweet_preprocessed'].head().apply(lambda x: text_to_sequence(x))[1])"
   ]
  },
  {
   "cell_type": "code",
   "execution_count": 23,
   "id": "2493b13b",
   "metadata": {},
   "outputs": [
    {
     "name": "stdout",
     "output_type": "stream",
     "text": [
      "CPU times: total: 2.39 s\n",
      "Wall time: 2.4 s\n"
     ]
    }
   ],
   "source": [
    "%%time\n",
    "\n",
    "\n",
    "# Токенизация всех твитов.\n",
    "df['tweet_tokenized'] = df['tweet_preprocessed'].apply(lambda x: text_to_sequence(x))"
   ]
  },
  {
   "cell_type": "code",
   "execution_count": 24,
   "id": "40ab69fc",
   "metadata": {
    "scrolled": true
   },
   "outputs": [
    {
     "data": {
      "text/html": [
       "<div>\n",
       "<style scoped>\n",
       "    .dataframe tbody tr th:only-of-type {\n",
       "        vertical-align: middle;\n",
       "    }\n",
       "\n",
       "    .dataframe tbody tr th {\n",
       "        vertical-align: top;\n",
       "    }\n",
       "\n",
       "    .dataframe thead th {\n",
       "        text-align: right;\n",
       "    }\n",
       "</style>\n",
       "<table border=\"1\" class=\"dataframe\">\n",
       "  <thead>\n",
       "    <tr style=\"text-align: right;\">\n",
       "      <th></th>\n",
       "      <th>label</th>\n",
       "      <th>tweet</th>\n",
       "      <th>tweet_preprocessed</th>\n",
       "      <th>tweet_tokenized</th>\n",
       "    </tr>\n",
       "    <tr>\n",
       "      <th>id</th>\n",
       "      <th></th>\n",
       "      <th></th>\n",
       "      <th></th>\n",
       "      <th></th>\n",
       "    </tr>\n",
       "  </thead>\n",
       "  <tbody>\n",
       "    <tr>\n",
       "      <th>1</th>\n",
       "      <td>0</td>\n",
       "      <td>@user when a father is dysfunctional and is s...</td>\n",
       "      <td>father dysfunctional selfish drag kid dysfunct...</td>\n",
       "      <td>[903, 257, 117, 0, 0, 0, 0, 0, 0, 0, 0, 0, 0, ...</td>\n",
       "    </tr>\n",
       "    <tr>\n",
       "      <th>2</th>\n",
       "      <td>0</td>\n",
       "      <td>@user @user thanks for #lyft credit i can't us...</td>\n",
       "      <td>thanks lyft credit cant use cause dont offer w...</td>\n",
       "      <td>[301, 802, 114, 78, 718, 36, 0, 0, 0, 0, 0, 0,...</td>\n",
       "    </tr>\n",
       "    <tr>\n",
       "      <th>3</th>\n",
       "      <td>0</td>\n",
       "      <td>bihday your majesty</td>\n",
       "      <td>bihday majesty</td>\n",
       "      <td>[824, 0, 0, 0, 0, 0, 0, 0, 0, 0, 0, 0, 0, 0, 0...</td>\n",
       "    </tr>\n",
       "    <tr>\n",
       "      <th>4</th>\n",
       "      <td>0</td>\n",
       "      <td>#model   i love u take with u all the time in ...</td>\n",
       "      <td>model love u take u time</td>\n",
       "      <td>[376, 2695, 1645, 672, 1645, 1219, 0, 0, 0, 0,...</td>\n",
       "    </tr>\n",
       "    <tr>\n",
       "      <th>5</th>\n",
       "      <td>0</td>\n",
       "      <td>factsguide: society now    #motivation</td>\n",
       "      <td>factsguide society now motivation</td>\n",
       "      <td>[30, 975, 173, 0, 0, 0, 0, 0, 0, 0, 0, 0, 0, 0...</td>\n",
       "    </tr>\n",
       "  </tbody>\n",
       "</table>\n",
       "</div>"
      ],
      "text/plain": [
       "    label                                              tweet  \\\n",
       "id                                                             \n",
       "1       0   @user when a father is dysfunctional and is s...   \n",
       "2       0  @user @user thanks for #lyft credit i can't us...   \n",
       "3       0                                bihday your majesty   \n",
       "4       0  #model   i love u take with u all the time in ...   \n",
       "5       0             factsguide: society now    #motivation   \n",
       "\n",
       "                                   tweet_preprocessed  \\\n",
       "id                                                      \n",
       "1   father dysfunctional selfish drag kid dysfunct...   \n",
       "2   thanks lyft credit cant use cause dont offer w...   \n",
       "3                                      bihday majesty   \n",
       "4                            model love u take u time   \n",
       "5                   factsguide society now motivation   \n",
       "\n",
       "                                      tweet_tokenized  \n",
       "id                                                     \n",
       "1   [903, 257, 117, 0, 0, 0, 0, 0, 0, 0, 0, 0, 0, ...  \n",
       "2   [301, 802, 114, 78, 718, 36, 0, 0, 0, 0, 0, 0,...  \n",
       "3   [824, 0, 0, 0, 0, 0, 0, 0, 0, 0, 0, 0, 0, 0, 0...  \n",
       "4   [376, 2695, 1645, 672, 1645, 1219, 0, 0, 0, 0,...  \n",
       "5   [30, 975, 173, 0, 0, 0, 0, 0, 0, 0, 0, 0, 0, 0...  "
      ]
     },
     "execution_count": 24,
     "metadata": {},
     "output_type": "execute_result"
    }
   ],
   "source": [
    "# Проверка: вывод вервых пяти строк.\n",
    "df.head()"
   ]
  },
  {
   "cell_type": "code",
   "execution_count": 25,
   "id": "ea340e47",
   "metadata": {},
   "outputs": [],
   "source": [
    "# Класс датасета.\n",
    "class DataWrapper(Dataset):\n",
    "    def __init__(self, data, target, transform=None):\n",
    "        self.data = torch.from_numpy(data).long()\n",
    "        self.target = torch.from_numpy(target).long()\n",
    "        self.transform = transform\n",
    "        \n",
    "    def __getitem__(self, index):\n",
    "        x = self.data[index]\n",
    "        y = self.target[index]\n",
    "        \n",
    "        if self.transform:\n",
    "            x = self.transform(x)\n",
    "            \n",
    "        return x, y\n",
    "    \n",
    "    def __len__(self):\n",
    "        return len(self.data)"
   ]
  },
  {
   "cell_type": "code",
   "execution_count": 26,
   "id": "d8d633f3",
   "metadata": {},
   "outputs": [
    {
     "data": {
      "text/plain": [
       "((23971, 4), (7991, 4))"
      ]
     },
     "execution_count": 26,
     "metadata": {},
     "output_type": "execute_result"
    }
   ],
   "source": [
    "# Разбиение данных на обучающую и тестовую выборки.\n",
    "df_train, df_test = train_test_split(df, test_size=0.25, random_state=GLOBAL__RANDOM_STATE)\n",
    "\n",
    "# Проверка: вывод размерностей.\n",
    "df_train.shape, df_test.shape"
   ]
  },
  {
   "cell_type": "code",
   "execution_count": 27,
   "id": "51edefe2",
   "metadata": {},
   "outputs": [],
   "source": [
    "# Формирование обучающих датасета и загрузчика.\n",
    "train_dataset = DataWrapper(np.array([*df_train['tweet_tokenized'].values]), df_train['label'].values)\n",
    "train_loader = DataLoader(train_dataset, batch_size=512, shuffle=True)\n",
    "\n",
    "# Формирование тестовых датасета и загрузчика.\n",
    "val_dataset = DataWrapper(np.array([*df_test['tweet_tokenized'].values]), df_test['label'].values)\n",
    "val_loader = DataLoader(val_dataset, batch_size=8, shuffle=True)"
   ]
  },
  {
   "cell_type": "code",
   "execution_count": 28,
   "id": "b3579cd5",
   "metadata": {},
   "outputs": [
    {
     "name": "stdout",
     "output_type": "stream",
     "text": [
      "Размерность тензора объекта:\ttorch.Size([20])\n",
      "Тензор:\n",
      "\ttensor([ 270,  267,  126,  267,  143,   57,   54, 1139,   64,  238,   27,  119,\n",
      "           0,    0,    0,    0,    0,    0,    0,    0])\n",
      "\n",
      "Размерность тензора ответов в батче:\ttorch.Size([512])\n",
      "Первый ответ в батче:\t0\n"
     ]
    }
   ],
   "source": [
    "# Проверка обучающего загрузчика.\n",
    "for x, y in train_loader:\n",
    "    print(f'Размерность тензора объекта:\\t{x[0].shape}')\n",
    "    print(f'Тензор:\\n\\t{x[0]}')\n",
    "    print(f'\\nРазмерность тензора ответов в батче:\\t{y.shape}')\n",
    "    print(f'Первый ответ в батче:\\t{y[0]}')\n",
    "    break"
   ]
  },
  {
   "cell_type": "markdown",
   "id": "b4b389b6",
   "metadata": {},
   "source": [
    "#### Построение модели"
   ]
  },
  {
   "cell_type": "code",
   "execution_count": 29,
   "id": "8c2421b6",
   "metadata": {},
   "outputs": [],
   "source": [
    "class Net(nn.Module):\n",
    "    def __init__(self, vocab_size=2000, embedding_dim=128, out_channel=128, num_classes=1):\n",
    "        super().__init__()\n",
    "#         Дебажить: не хватает размерности 2000!\n",
    "#         self.embedding = nn.Embedding(vocab_size, embedding_dim)\n",
    "        self.embedding = nn.Embedding(2700, embedding_dim)\n",
    "        self.conv_1 = nn.Conv1d(embedding_dim, out_channel, kernel_size=2)\n",
    "        self.conv_2 = nn.Conv1d(embedding_dim, out_channel, kernel_size=3)\n",
    "        self.pool = nn.MaxPool1d(2)\n",
    "        self.relu = nn.ReLU()\n",
    "        self.linear_1 = nn.Linear(out_channel, out_channel // 2)\n",
    "        self.linear_2 = nn.Linear(out_channel // 2, num_classes)\n",
    "        \n",
    "    def forward(self, x):        \n",
    "        output = self.embedding(x) # B, L, E\n",
    "        #                       B  E  L         \n",
    "        output = output.permute(0, 2, 1)\n",
    "        output = self.conv_1(output)\n",
    "        output = self.relu(output)\n",
    "        output = self.pool(output)\n",
    "\n",
    "        output = self.conv_2(output)\n",
    "        output = self.relu(output)\n",
    "        output = self.pool(output)\n",
    "        output = torch.max(output, axis=2).values\n",
    "        output = self.linear_1(output)\n",
    "        output = self.relu(output)\n",
    "        output = self.linear_2(output)\n",
    "        output = F.sigmoid(output)\n",
    "        return output"
   ]
  },
  {
   "cell_type": "code",
   "execution_count": 30,
   "id": "180dc8c3",
   "metadata": {},
   "outputs": [
    {
     "data": {
      "text/plain": [
       "'cpu'"
      ]
     },
     "execution_count": 30,
     "metadata": {},
     "output_type": "execute_result"
    }
   ],
   "source": [
    "# Инициализация модели.\n",
    "model = Net(vocab_size=MAX_WORDS)\n",
    "\n",
    "device = 'cuda' if torch.cuda.is_available() else 'cpu'\n",
    "device"
   ]
  },
  {
   "cell_type": "code",
   "execution_count": 31,
   "id": "c1b085d0",
   "metadata": {},
   "outputs": [
    {
     "name": "stdout",
     "output_type": "stream",
     "text": [
      "Net(\n",
      "  (embedding): Embedding(2700, 128)\n",
      "  (conv_1): Conv1d(128, 128, kernel_size=(2,), stride=(1,))\n",
      "  (conv_2): Conv1d(128, 128, kernel_size=(3,), stride=(1,))\n",
      "  (pool): MaxPool1d(kernel_size=2, stride=2, padding=0, dilation=1, ceil_mode=False)\n",
      "  (relu): ReLU()\n",
      "  (linear_1): Linear(in_features=128, out_features=64, bias=True)\n",
      "  (linear_2): Linear(in_features=64, out_features=1, bias=True)\n",
      ")\n",
      "Parameters: 436097\n"
     ]
    }
   ],
   "source": [
    "# Вывод структуры и количества обучаемых параметров модели.\n",
    "print(model)\n",
    "print(\"Parameters:\", sum([param.nelement() for param in model.parameters()]))"
   ]
  },
  {
   "cell_type": "code",
   "execution_count": 32,
   "id": "f425801d",
   "metadata": {},
   "outputs": [],
   "source": [
    "# Оптимизатор и функция потерь.\n",
    "optimizer = torch.optim.Adam(model.parameters(), lr=0.01)\n",
    "criterion = nn.BCELoss()"
   ]
  },
  {
   "cell_type": "code",
   "execution_count": 33,
   "id": "66233483",
   "metadata": {},
   "outputs": [
    {
     "name": "stderr",
     "output_type": "stream",
     "text": [
      "C:\\Users\\SergeyZ06\\AppData\\Local\\Programs\\Python\\Python310\\lib\\site-packages\\torch\\nn\\functional.py:1960: UserWarning: nn.functional.sigmoid is deprecated. Use torch.sigmoid instead.\n",
      "  warnings.warn(\"nn.functional.sigmoid is deprecated. Use torch.sigmoid instead.\")\n"
     ]
    },
    {
     "name": "stdout",
     "output_type": "stream",
     "text": [
      "Epoch [1/10]. Step [47/47]. Loss: 0.199. Acc: 0.929. Test loss: 0.041. Test acc: 0.934\n",
      "Epoch [2/10]. Step [47/47]. Loss: 0.198. Acc: 0.935. Test loss: 0.103. Test acc: 0.943\n",
      "Epoch [3/10]. Step [47/47]. Loss: 0.161. Acc: 0.945. Test loss: 0.071. Test acc: 0.944\n",
      "Epoch [4/10]. Step [47/47]. Loss: 0.105. Acc: 0.955. Test loss: 0.084. Test acc: 0.942\n",
      "Epoch [5/10]. Step [47/47]. Loss: 0.151. Acc: 0.961. Test loss: 0.019. Test acc: 0.946\n",
      "Epoch [6/10]. Step [47/47]. Loss: 0.085. Acc: 0.974. Test loss: 0.093. Test acc: 0.941\n",
      "Epoch [7/10]. Step [47/47]. Loss: 0.054. Acc: 0.974. Test loss: 0.014. Test acc: 0.944\n",
      "Epoch [8/10]. Step [47/47]. Loss: 0.079. Acc: 0.978. Test loss: 0.019. Test acc: 0.940\n",
      "Epoch [9/10]. Step [47/47]. Loss: 0.060. Acc: 0.982. Test loss: 0.174. Test acc: 0.934\n",
      "Epoch [10/10]. Step [47/47]. Loss: 0.064. Acc: 0.983. Test loss: 0.001. Test acc: 0.941\n",
      "Training is finished!\n",
      "CPU times: total: 2min 43s\n",
      "Wall time: 21.4 s\n"
     ]
    }
   ],
   "source": [
    "%%time\n",
    "\n",
    "\n",
    "# Обучение и валидация модели на десяти эпохах.\n",
    "epochs = 10\n",
    "\n",
    "model = model.to(device)\n",
    "model.train()\n",
    "th = 0.5\n",
    "\n",
    "train_loss_history = []\n",
    "test_loss_history = []\n",
    "\n",
    "\n",
    "for epoch in range(epochs):  \n",
    "    running_items, running_right = 0.0, 0.0\n",
    "    for i, data in enumerate(train_loader, 0):\n",
    "        inputs, labels = data[0].to(device), data[1].to(device)\n",
    "        \n",
    "        # обнуляем градиент\n",
    "        optimizer.zero_grad()\n",
    "        outputs = model(inputs)\n",
    "        \n",
    "        loss = criterion(outputs, labels.float().view(-1, 1))\n",
    "        loss.backward()\n",
    "        optimizer.step()\n",
    "\n",
    "        # подсчет ошибки на обучении\n",
    "        loss = loss.item()\n",
    "        running_items += len(labels)\n",
    "        # подсчет метрики на обучении\n",
    "        pred_labels = torch.squeeze((outputs > th).int())\n",
    "        running_right += (labels == pred_labels).sum()\n",
    "        \n",
    "    # выводим статистику о процессе обучения\n",
    "    model.eval()\n",
    "    \n",
    "    print(f'Epoch [{epoch + 1}/{epochs}]. ' \\\n",
    "            f'Step [{i + 1}/{len(train_loader)}]. ' \\\n",
    "            f'Loss: {loss:.3f}. ' \\\n",
    "            f'Acc: {running_right / running_items:.3f}', end='. ')\n",
    "    running_loss, running_items, running_right = 0.0, 0.0, 0.0\n",
    "    train_loss_history.append(loss)\n",
    "\n",
    "        # выводим статистику на тестовых данных\n",
    "    test_running_right, test_running_total, test_loss = 0.0, 0.0, 0.0\n",
    "    for j, data in enumerate(val_loader):\n",
    "        test_labels = data[1].to(device)\n",
    "        test_outputs = model(data[0].to(device))\n",
    "        \n",
    "        # подсчет ошибки на тесте\n",
    "        test_loss = criterion(test_outputs, test_labels.float().view(-1, 1))\n",
    "        # подсчет метрики на тесте\n",
    "        test_running_total += len(data[1])\n",
    "        pred_test_labels = torch.squeeze((test_outputs > th).int())\n",
    "        test_running_right += (test_labels == pred_test_labels).sum()\n",
    "    \n",
    "    test_loss_history.append(test_loss.item())\n",
    "    print(f'Test loss: {test_loss:.3f}. Test acc: {test_running_right / test_running_total:.3f}')\n",
    "    \n",
    "    model.train()\n",
    "        \n",
    "print('Training is finished!')"
   ]
  },
  {
   "cell_type": "code",
   "execution_count": 34,
   "id": "32b6a1db",
   "metadata": {},
   "outputs": [
    {
     "data": {
      "image/png": "[encoded data removed]",
      "text/plain": [
       "<Figure size 432x288 with 1 Axes>"
      ]
     },
     "metadata": {
      "needs_background": "light"
     },
     "output_type": "display_data"
    }
   ],
   "source": [
    "import matplotlib.pyplot as plt\n",
    "\n",
    "\n",
    "# Визуализация функций потерь на обучающей и тестовой выборках.\n",
    "plt.title('Loss history')\n",
    "plt.grid(True)\n",
    "plt.ylabel('Loss')\n",
    "plt.xlabel('Epoch')\n",
    "plt.plot(train_loss_history, label='train')\n",
    "plt.plot(test_loss_history, label='test')\n",
    "plt.legend();"
   ]
  },
  {
   "cell_type": "code",
   "execution_count": null,
   "id": "c2a956d1",
   "metadata": {},
   "outputs": [],
   "source": []
  }
 ],
 "metadata": {
  "kernelspec": {
   "display_name": "Python 3 (ipykernel)",
   "language": "python",
   "name": "python3"
  },
  "language_info": {
   "codemirror_mode": {
    "name": "ipython",
    "version": 3
   },
   "file_extension": ".py",
   "mimetype": "text/x-python",
   "name": "python",
   "nbconvert_exporter": "python",
   "pygments_lexer": "ipython3",
   "version": "3.10.4"
  },
  "toc": {
   "base_numbering": 1,
   "nav_menu": {},
   "number_sections": false,
   "sideBar": true,
   "skip_h1_title": false,
   "title_cell": "Table of Contents",
   "title_sidebar": "Contents",
   "toc_cell": false,
   "toc_position": {},
   "toc_section_display": true,
   "toc_window_display": false
  },
  "varInspector": {
   "cols": {
    "lenName": 16,
    "lenType": 16,
    "lenVar": 40
   },
   "kernels_config": {
    "python": {
     "delete_cmd_postfix": "",
     "delete_cmd_prefix": "del ",
     "library": "var_list.py",
     "varRefreshCmd": "print(var_dic_list())"
    },
    "r": {
     "delete_cmd_postfix": ") ",
     "delete_cmd_prefix": "rm(",
     "library": "var_list.r",
     "varRefreshCmd": "cat(var_dic_list()) "
    }
   },
   "types_to_exclude": [
    "module",
    "function",
    "builtin_function_or_method",
    "instance",
    "_Feature"
   ],
   "window_display": false
  }
 },
 "nbformat": 4,
 "nbformat_minor": 5
}
