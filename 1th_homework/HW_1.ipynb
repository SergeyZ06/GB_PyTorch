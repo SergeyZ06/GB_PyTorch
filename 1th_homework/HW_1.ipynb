{
 "cells": [
  {
   "cell_type": "code",
   "execution_count": 1,
   "metadata": {
    "id": "_CNZn_3CofVO"
   },
   "outputs": [],
   "source": [
    "import torch"
   ]
  },
  {
   "cell_type": "code",
   "execution_count": 2,
   "metadata": {
    "id": "QGYTKAxeofVR"
   },
   "outputs": [
    {
     "data": {
      "text/plain": [
       "tensor([[[0.4963, 0.7682, 0.0885, 0.1320, 0.3074],\n",
       "         [0.6341, 0.4901, 0.8964, 0.4556, 0.6323],\n",
       "         [0.3489, 0.4017, 0.0223, 0.1689, 0.2939],\n",
       "         [0.5185, 0.6977, 0.8000, 0.1610, 0.2823]],\n",
       "\n",
       "        [[0.6816, 0.9152, 0.3971, 0.8742, 0.4194],\n",
       "         [0.5529, 0.9527, 0.0362, 0.1852, 0.3734],\n",
       "         [0.3051, 0.9320, 0.1759, 0.2698, 0.1507],\n",
       "         [0.0317, 0.2081, 0.9298, 0.7231, 0.7423]],\n",
       "\n",
       "        [[0.5263, 0.2437, 0.5846, 0.0332, 0.1387],\n",
       "         [0.2422, 0.8155, 0.7932, 0.2783, 0.4820],\n",
       "         [0.8198, 0.9971, 0.6984, 0.5675, 0.8352],\n",
       "         [0.2056, 0.5932, 0.1123, 0.1535, 0.2417]]])"
      ]
     },
     "execution_count": 2,
     "metadata": {},
     "output_type": "execute_result"
    }
   ],
   "source": [
    "# 1. Создайте случайный FloatTensor размера 3x4x5\n",
    "\n",
    "# Фиксация случайного зерна.\n",
    "torch.manual_seed(0)\n",
    "\n",
    "# Создание тензора указанной формы со случайными значениями из интервала [0, 1).\n",
    "tensor_a = torch.rand(size=(3, 4, 5))\n",
    "\n",
    "# Проверка: вывод тензора.\n",
    "tensor_a"
   ]
  },
  {
   "cell_type": "code",
   "execution_count": 3,
   "metadata": {
    "id": "7GV_q8DdofVV"
   },
   "outputs": [
    {
     "data": {
      "text/plain": [
       "torch.Size([3, 4, 5])"
      ]
     },
     "execution_count": 3,
     "metadata": {},
     "output_type": "execute_result"
    }
   ],
   "source": [
    "# 2. Выведите его форму (shape)\n",
    "\n",
    "# Вывод размерности тензора.\n",
    "tensor_a.shape"
   ]
  },
  {
   "cell_type": "code",
   "execution_count": 4,
   "metadata": {
    "id": "f1OTy65FofVX",
    "scrolled": true
   },
   "outputs": [
    {
     "data": {
      "text/plain": [
       "tensor([[0.4963, 0.7682, 0.0885, 0.1320, 0.3074, 0.6341, 0.4901, 0.8964, 0.4556,\n",
       "         0.6323],\n",
       "        [0.3489, 0.4017, 0.0223, 0.1689, 0.2939, 0.5185, 0.6977, 0.8000, 0.1610,\n",
       "         0.2823],\n",
       "        [0.6816, 0.9152, 0.3971, 0.8742, 0.4194, 0.5529, 0.9527, 0.0362, 0.1852,\n",
       "         0.3734],\n",
       "        [0.3051, 0.9320, 0.1759, 0.2698, 0.1507, 0.0317, 0.2081, 0.9298, 0.7231,\n",
       "         0.7423],\n",
       "        [0.5263, 0.2437, 0.5846, 0.0332, 0.1387, 0.2422, 0.8155, 0.7932, 0.2783,\n",
       "         0.4820],\n",
       "        [0.8198, 0.9971, 0.6984, 0.5675, 0.8352, 0.2056, 0.5932, 0.1123, 0.1535,\n",
       "         0.2417]])"
      ]
     },
     "execution_count": 4,
     "metadata": {},
     "output_type": "execute_result"
    }
   ],
   "source": [
    "# 3. Приведите его к форме 6х10\n",
    "\n",
    "# Изменения размерности тензора.\n",
    "tensor_a.resize_((6, 10))"
   ]
  },
  {
   "cell_type": "code",
   "execution_count": 5,
   "metadata": {
    "id": "BEVOv9_TofVe"
   },
   "outputs": [
    {
     "data": {
      "text/plain": [
       "tensor([[99],\n",
       "        [26],\n",
       "        [63],\n",
       "        [74],\n",
       "        [75],\n",
       "        [ 0],\n",
       "        [18],\n",
       "        [32],\n",
       "        [68],\n",
       "        [12]])"
      ]
     },
     "execution_count": 5,
     "metadata": {},
     "output_type": "execute_result"
    }
   ],
   "source": [
    "# 4. Создайте случайный IntTensor размера 10\n",
    "\n",
    "# Создание тензора указанной формы со случайными целыми числами из интервала [0, 100).\n",
    "tensor_b = torch.randint(low=0, high=100, size=(10, 1))\n",
    "\n",
    "# Проверка: вывод тензора.\n",
    "tensor_b"
   ]
  },
  {
   "cell_type": "code",
   "execution_count": 6,
   "metadata": {
    "id": "TAX3DUiSa07K"
   },
   "outputs": [
    {
     "data": {
      "text/plain": [
       "tensor([[49.1294, 19.9738,  5.5741,  9.7703, 23.0567,  0.0000,  8.8217, 28.6862,\n",
       "         30.9827,  7.5877],\n",
       "        [34.5405, 10.4446,  1.4065, 12.4956, 22.0416,  0.0000, 12.5580, 25.6004,\n",
       "         10.9500,  3.3872],\n",
       "        [67.4792, 23.7950, 25.0173, 64.6875, 31.4556,  0.0000, 17.1493,  1.1573,\n",
       "         12.5957,  4.4810],\n",
       "        [30.2049, 24.2320, 11.0823, 19.9677, 11.3010,  0.0000,  3.7463, 29.7536,\n",
       "         49.1714,  8.9080],\n",
       "        [52.1033,  6.3351, 36.8293,  2.4533, 10.4038,  0.0000, 14.6784, 25.3811,\n",
       "         18.9212,  5.7835],\n",
       "        [81.1583, 25.9237, 44.0018, 41.9984, 62.6432,  0.0000, 10.6771,  3.5951,\n",
       "         10.4351,  2.9005]])"
      ]
     },
     "execution_count": 6,
     "metadata": {},
     "output_type": "execute_result"
    }
   ],
   "source": [
    "# 5. Умножьте созданный FloatTensor на созданный IntTensor поэлементно\n",
    "\n",
    "# Перемножение тензоров.\n",
    "tensor_a * tensor_b.T"
   ]
  },
  {
   "cell_type": "code",
   "execution_count": 7,
   "metadata": {
    "id": "eUxdWlQZofVi"
   },
   "outputs": [
    {
     "data": {
      "text/plain": [
       "tensor([[3.0095, 2.2361, 2.4913, 2.7194, 2.2429, 2.3108],\n",
       "        [2.2361, 1.8997, 2.0007, 1.8061, 1.8508, 1.7467],\n",
       "        [2.4913, 2.0007, 3.7884, 2.0904, 2.0721, 3.3966],\n",
       "        [2.7194, 1.8061, 2.0904, 3.0710, 1.9942, 2.1061],\n",
       "        [2.2429, 1.8508, 2.0721, 1.9942, 2.3609, 1.9992],\n",
       "        [2.3108, 1.7467, 3.3966, 2.1061, 1.9992, 3.6625]])"
      ]
     },
     "execution_count": 7,
     "metadata": {},
     "output_type": "execute_result"
    }
   ],
   "source": [
    "# 6. Умножьте тензор матрично на себя, чтобы результат был размерности 6x6\n",
    "# Подсказка: .dot может не подойти\n",
    "\n",
    "# Матричное умножение тензора на самого себя.\n",
    "tensor_a @ tensor_a.T"
   ]
  },
  {
   "cell_type": "code",
   "execution_count": 8,
   "metadata": {
    "id": "u3V6CsNkofVj",
    "scrolled": false
   },
   "outputs": [
    {
     "data": {
      "text/plain": [
       "(tensor([3.]), tensor([1.]), tensor([-75.]))"
      ]
     },
     "execution_count": 8,
     "metadata": {},
     "output_type": "execute_result"
    }
   ],
   "source": [
    "# 7. Посчитайте производную функции y = x**3 + z - 75t в точке (1, 0.5, 2)\n",
    "\n",
    "# Определение координат точки.\n",
    "x = torch.tensor([1.0], requires_grad=True)\n",
    "z = torch.tensor([0.5], requires_grad=True)\n",
    "t = torch.tensor([2.0], requires_grad=True)\n",
    "\n",
    "# Определение функции.\n",
    "y = x**3 + z - 75 * t\n",
    "\n",
    "# Обратный проход для вычисления частных производных.\n",
    "y.backward()\n",
    "\n",
    "# Вывод частных производных.\n",
    "x.grad, z.grad, t.grad"
   ]
  },
  {
   "cell_type": "code",
   "execution_count": 9,
   "metadata": {
    "id": "FzH6QkyxofVm"
   },
   "outputs": [
    {
     "data": {
      "text/plain": [
       "tensor([[1., 1., 1., 1., 1., 1.],\n",
       "        [1., 1., 1., 1., 1., 1.],\n",
       "        [1., 1., 1., 1., 1., 1.],\n",
       "        [1., 1., 1., 1., 1., 1.],\n",
       "        [1., 1., 1., 1., 1., 1.]])"
      ]
     },
     "execution_count": 9,
     "metadata": {},
     "output_type": "execute_result"
    }
   ],
   "source": [
    "# 8. Создайте единичный тензор размера 5x6\n",
    "\n",
    "# Создание единичного тензора заданной размерности.\n",
    "tensor_c = torch.ones(size=(5, 6))\n",
    "\n",
    "# Проверка: вывод тензора.\n",
    "tensor_c"
   ]
  },
  {
   "cell_type": "code",
   "execution_count": 10,
   "metadata": {
    "id": "z49ttvWPofVo"
   },
   "outputs": [
    {
     "data": {
      "text/plain": [
       "(array([[1., 1., 1., 1., 1., 1.],\n",
       "        [1., 1., 1., 1., 1., 1.],\n",
       "        [1., 1., 1., 1., 1., 1.],\n",
       "        [1., 1., 1., 1., 1., 1.],\n",
       "        [1., 1., 1., 1., 1., 1.]], dtype=float32),\n",
       " numpy.ndarray)"
      ]
     },
     "execution_count": 10,
     "metadata": {},
     "output_type": "execute_result"
    }
   ],
   "source": [
    "# 9. Переведите его в формат numpy\n",
    "\n",
    "# Преобразование тензора в матрицу NumPy.\n",
    "tensor_c = tensor_c.numpy()\n",
    "\n",
    "# Проверка: вывод матрицы NumPy и её типа.\n",
    "tensor_c, type(tensor_c)"
   ]
  },
  {
   "cell_type": "code",
   "execution_count": null,
   "metadata": {},
   "outputs": [],
   "source": []
  }
 ],
 "metadata": {
  "colab": {
   "collapsed_sections": [],
   "name": "HW_1.ipynb",
   "provenance": []
  },
  "kernelspec": {
   "display_name": "Python 3",
   "language": "python",
   "name": "python3"
  },
  "language_info": {
   "codemirror_mode": {
    "name": "ipython",
    "version": 3
   },
   "file_extension": ".py",
   "mimetype": "text/x-python",
   "name": "python",
   "nbconvert_exporter": "python",
   "pygments_lexer": "ipython3",
   "version": "3.9.1"
  },
  "toc": {
   "base_numbering": 1,
   "nav_menu": {},
   "number_sections": true,
   "sideBar": true,
   "skip_h1_title": false,
   "title_cell": "Table of Contents",
   "title_sidebar": "Contents",
   "toc_cell": false,
   "toc_position": {},
   "toc_section_display": true,
   "toc_window_display": false
  },
  "varInspector": {
   "cols": {
    "lenName": 16,
    "lenType": 16,
    "lenVar": 40
   },
   "kernels_config": {
    "python": {
     "delete_cmd_postfix": "",
     "delete_cmd_prefix": "del ",
     "library": "var_list.py",
     "varRefreshCmd": "print(var_dic_list())"
    },
    "r": {
     "delete_cmd_postfix": ") ",
     "delete_cmd_prefix": "rm(",
     "library": "var_list.r",
     "varRefreshCmd": "cat(var_dic_list()) "
    }
   },
   "types_to_exclude": [
    "module",
    "function",
    "builtin_function_or_method",
    "instance",
    "_Feature"
   ],
   "window_display": false
  }
 },
 "nbformat": 4,
 "nbformat_minor": 1
}
