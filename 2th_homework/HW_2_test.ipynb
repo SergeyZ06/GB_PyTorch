{
 "cells": [
  {
   "cell_type": "markdown",
   "id": "500432cc",
   "metadata": {},
   "source": [
    "# Фреймворк PyTorch для разработки искусственных нейронных сетей"
   ]
  },
  {
   "cell_type": "markdown",
   "id": "276688a1",
   "metadata": {},
   "source": [
    "## Урок 2. Feed-forward neural network"
   ]
  },
  {
   "cell_type": "markdown",
   "id": "02497aab",
   "metadata": {},
   "source": [
    "### Практическое задание"
   ]
  },
  {
   "cell_type": "markdown",
   "id": "8374c617",
   "metadata": {},
   "source": [
    "1. Добиться хорошего результата от модели, собранной на занятии (5 угаданныx картинок из 8 предложенных). Варианты изменений:\n",
    "    - изменение слоёв и их количества;\n",
    "    - изменение метода оптимизации;\n",
    "    - изменение процесса обучения;\n",
    "    - *преобразование данных transform\n",
    "\n",
    "\n",
    "2. *Переписать данный туториал на PyTorch: https://www.tensorflow.org/tutorials/quickstart/beginner?hl=ru"
   ]
  },
  {
   "cell_type": "markdown",
   "id": "0de163e1",
   "metadata": {},
   "source": [
    "### Решение. Задание 1"
   ]
  },
  {
   "cell_type": "markdown",
   "id": "0b0578a5",
   "metadata": {},
   "source": [
    "#### Импорт библиотек"
   ]
  },
  {
   "cell_type": "code",
   "execution_count": 1,
   "id": "b7e49e86",
   "metadata": {},
   "outputs": [],
   "source": [
    "import numpy as np\n",
    "\n",
    "import torch\n",
    "from torch import nn\n",
    "\n",
    "import torchvision\n",
    "from torchvision import transforms"
   ]
  },
  {
   "cell_type": "markdown",
   "id": "d80f4bdb",
   "metadata": {},
   "source": [
    "#### Импорт данных"
   ]
  },
  {
   "cell_type": "code",
   "execution_count": 2,
   "id": "57e5b51c",
   "metadata": {
    "scrolled": true
   },
   "outputs": [
    {
     "name": "stdout",
     "output_type": "stream",
     "text": [
      "Files already downloaded and verified\n"
     ]
    }
   ],
   "source": [
    "train_dataset = torchvision.datasets.CIFAR10(root='data/',\n",
    "                                             train=True,  \n",
    "                                             transform=transforms.ToTensor(), \n",
    "                                             download=True)\n",
    "\n",
    "train_loader = torch.utils.data.DataLoader(dataset=train_dataset,\n",
    "                                           batch_size=64, \n",
    "                                           shuffle=True)"
   ]
  },
  {
   "cell_type": "code",
   "execution_count": 3,
   "id": "d392e113",
   "metadata": {},
   "outputs": [
    {
     "name": "stdout",
     "output_type": "stream",
     "text": [
      "Files already downloaded and verified\n"
     ]
    }
   ],
   "source": [
    "test_dataset = torchvision.datasets.CIFAR10(root='./data',\n",
    "                                            train=False,\n",
    "                                            download=True,\n",
    "                                            transform=transforms.ToTensor())\n",
    "\n",
    "test_loader = torch.utils.data.DataLoader(test_dataset,\n",
    "                                          batch_size=8,\n",
    "                                          shuffle=False)"
   ]
  },
  {
   "cell_type": "markdown",
   "id": "78ad568c",
   "metadata": {},
   "source": [
    "#### Класс модели"
   ]
  },
  {
   "cell_type": "code",
   "execution_count": 4,
   "id": "2c82e69f",
   "metadata": {},
   "outputs": [],
   "source": [
    "class model(nn.Module):\n",
    "    class base_model(nn.Module):\n",
    "        def __init__(self, input_dim, output_dim, activation='relu'):\n",
    "            super().__init__()\n",
    "            self.layer = nn.Linear(input_dim, output_dim)\n",
    "            self.activation = activation\n",
    "            self.dict_activations = {\n",
    "                'relu': nn.functional.relu,\n",
    "                'leaky_rely': nn.functional.leaky_relu,\n",
    "                'sigmoid': torch.sigmoid,\n",
    "                'softmax': nn.functional.softmax\n",
    "            }\n",
    "        \n",
    "        def forward(self, X_train):\n",
    "            result = self.layer(X_train)\n",
    "            try:\n",
    "                if self.activation == 'softmax':\n",
    "                    result = self.dict_activations.get(self.activation)(result, dim=-1)\n",
    "                else:\n",
    "                    result = self.dict_activations.get(self.activation)(result)\n",
    "                    \n",
    "            except TypeError:\n",
    "                raise Exception(\n",
    "                    f'Unrecognized activation function name:\\n\\t{self.activation}' \\\n",
    "                    f'\\nPossible names are:\\n\\t\"relu\"\\n\\t\"leaky_rely\"\\n\\t\"sigmoid\"\\n\\t\"softmax\"\\n'\n",
    "                )\n",
    "                \n",
    "            return result\n",
    "    \n",
    "    \n",
    "    def __init__(self, dict_model_params):\n",
    "        super().__init__()\n",
    "        self.dict_model_params = dict_model_params\n",
    "        \n",
    "        for layer_name, layer_params in self.dict_model_params.items():\n",
    "            exec(f'self.layer_{layer_name} = self.base_model(**{layer_params})')\n",
    "    \n",
    "    \n",
    "    def forward(self, X_train):\n",
    "        X_train = X_train.view(X_train.shape[0], -1)\n",
    "        \n",
    "        result = None\n",
    "        \n",
    "        local_dict = {'self': self, 'X_train': X_train, 'result': result}\n",
    "        exec(f'result = self.layer_{[*self.dict_model_params.keys()][0]}(X_train)', globals(), local_dict)\n",
    "        result = local_dict['result']\n",
    "        \n",
    "        for layer_name in [*self.dict_model_params.keys()][1:]:\n",
    "            exec(f'result = self.layer_{layer_name}(result)', globals(), local_dict)\n",
    "            result = local_dict['result']\n",
    "        \n",
    "        return result\n",
    "    \n",
    "    \n",
    "    def fit(self, X_train, epochs=1):\n",
    "        self.train()\n",
    "        \n",
    "        criterion = nn.CrossEntropyLoss()\n",
    "        optimizer = optim.SGD(self.parameters(), lr=0.01, momentum=0.0)\n",
    "        \n",
    "        for epoch in range(epochs):\n",
    "            pass\n",
    "        # In progress.\n",
    "    \n",
    "    \n",
    "    def predict(self, X_test):\n",
    "        with torch.no_grad():\n",
    "            self.eval()\n",
    "            \n",
    "            result = None\n",
    "\n",
    "            local_dict = {'self': self, 'X_test': X_test, 'result': result}\n",
    "            exec(f'result = self.layer_{[*self.dict_model_params.keys()][0]}(X_test)', globals(), local_dict)\n",
    "            result = local_dict['result']\n",
    "\n",
    "            for layer_name in [*self.dict_model_params.keys()][1:]:\n",
    "                exec(f'result = self.layer_{layer_name}(result)', globals(), local_dict)\n",
    "                result = local_dict['result']\n",
    "\n",
    "            return result"
   ]
  },
  {
   "cell_type": "code",
   "execution_count": 5,
   "id": "57e6aaf7",
   "metadata": {
    "scrolled": true
   },
   "outputs": [
    {
     "data": {
      "text/plain": [
       "model(\n",
       "  (layer_1th): base_model(\n",
       "    (layer): Linear(in_features=1, out_features=1, bias=True)\n",
       "  )\n",
       "  (layer_2th): base_model(\n",
       "    (layer): Linear(in_features=1, out_features=1, bias=True)\n",
       "  )\n",
       ")"
      ]
     },
     "execution_count": 5,
     "metadata": {},
     "output_type": "execute_result"
    }
   ],
   "source": [
    "dict_model_params = {\n",
    "    '1th': {'input_dim': 1, 'output_dim': 1},\n",
    "    '2th': {'input_dim': 1, 'output_dim': 1, 'activation': 'sigmoid'}\n",
    "}\n",
    "\n",
    "test_model = model(dict_model_params)\n",
    "\n",
    "test_model"
   ]
  },
  {
   "cell_type": "code",
   "execution_count": 6,
   "id": "41747274",
   "metadata": {},
   "outputs": [
    {
     "data": {
      "text/plain": [
       "tensor([[0.3979]], grad_fn=<SigmoidBackward0>)"
      ]
     },
     "execution_count": 6,
     "metadata": {},
     "output_type": "execute_result"
    }
   ],
   "source": [
    "test_model(torch.FloatTensor([1]))"
   ]
  },
  {
   "cell_type": "code",
   "execution_count": 7,
   "id": "6bb0d7bb",
   "metadata": {},
   "outputs": [
    {
     "data": {
      "text/plain": [
       "tensor([1.1496], grad_fn=<ReluBackward0>)"
      ]
     },
     "execution_count": 7,
     "metadata": {},
     "output_type": "execute_result"
    }
   ],
   "source": [
    "layer_1th_result = test_model.layer_1th(torch.FloatTensor([1]))\n",
    "\n",
    "layer_1th_result"
   ]
  },
  {
   "cell_type": "code",
   "execution_count": 8,
   "id": "30ba8fd1",
   "metadata": {},
   "outputs": [
    {
     "data": {
      "text/plain": [
       "tensor([0.3979], grad_fn=<SigmoidBackward0>)"
      ]
     },
     "execution_count": 8,
     "metadata": {},
     "output_type": "execute_result"
    }
   ],
   "source": [
    "layer_2th_result =  test_model.layer_2th(layer_1th_result)\n",
    "\n",
    "layer_2th_result"
   ]
  },
  {
   "cell_type": "markdown",
   "id": "1cafad22",
   "metadata": {},
   "source": [
    "#### Построение модели"
   ]
  },
  {
   "cell_type": "code",
   "execution_count": 9,
   "id": "96e04b82",
   "metadata": {},
   "outputs": [
    {
     "data": {
      "text/plain": [
       "model(\n",
       "  (layer_1th): base_model(\n",
       "    (layer): Linear(in_features=3072, out_features=400, bias=True)\n",
       "  )\n",
       "  (layer_2th): base_model(\n",
       "    (layer): Linear(in_features=400, out_features=200, bias=True)\n",
       "  )\n",
       "  (layer_3th): base_model(\n",
       "    (layer): Linear(in_features=200, out_features=100, bias=True)\n",
       "  )\n",
       "  (layer_4th): base_model(\n",
       "    (layer): Linear(in_features=100, out_features=10, bias=True)\n",
       "  )\n",
       ")"
      ]
     },
     "execution_count": 9,
     "metadata": {},
     "output_type": "execute_result"
    }
   ],
   "source": [
    "dict_model_params = {\n",
    "    '1th': {'input_dim': 3072, 'output_dim': 400, 'activation': 'leaky_rely'},\n",
    "    '2th': {'input_dim': 400, 'output_dim': 200, 'activation': 'leaky_rely'},\n",
    "    '3th': {'input_dim': 200, 'output_dim': 100, 'activation': 'leaky_rely'},\n",
    "    '4th': {'input_dim': 100, 'output_dim': 10, 'activation': 'softmax'},\n",
    "}\n",
    "\n",
    "my_model = model(dict_model_params)\n",
    "\n",
    "my_model"
   ]
  },
  {
   "cell_type": "code",
   "execution_count": 10,
   "id": "4131d767",
   "metadata": {},
   "outputs": [],
   "source": [
    "my_model.train()\n",
    "criterion = nn.CrossEntropyLoss()\n",
    "optimizer = torch.optim.SGD(my_model.parameters(), lr=0.01, momentum=0.0)"
   ]
  },
  {
   "cell_type": "code",
   "execution_count": 11,
   "id": "2ca15655",
   "metadata": {
    "scrolled": true
   },
   "outputs": [
    {
     "name": "stdout",
     "output_type": "stream",
     "text": [
      "Epoch [1/5]. Step [1/782]. Loss: 0.036\n",
      "Epoch [1/5]. Step [301/782]. Loss: 0.036\n",
      "Epoch [1/5]. Step [601/782]. Loss: 0.036\n",
      "Epoch [2/5]. Step [1/782]. Loss: 0.036\n",
      "Epoch [2/5]. Step [301/782]. Loss: 0.036\n",
      "Epoch [2/5]. Step [601/782]. Loss: 0.036\n",
      "Epoch [3/5]. Step [1/782]. Loss: 0.036\n",
      "Epoch [3/5]. Step [301/782]. Loss: 0.036\n",
      "Epoch [3/5]. Step [601/782]. Loss: 0.036\n",
      "Epoch [4/5]. Step [1/782]. Loss: 0.036\n",
      "Epoch [4/5]. Step [301/782]. Loss: 0.036\n",
      "Epoch [4/5]. Step [601/782]. Loss: 0.036\n",
      "Epoch [5/5]. Step [1/782]. Loss: 0.036\n",
      "Epoch [5/5]. Step [301/782]. Loss: 0.036\n",
      "Epoch [5/5]. Step [601/782]. Loss: 0.036\n",
      "Training is finished!\n",
      "Wall time: 38.9 s\n"
     ]
    }
   ],
   "source": [
    "%%time\n",
    "\n",
    "\n",
    "num_epochs = 5\n",
    "\n",
    "for epoch in range(num_epochs):\n",
    "    running_loss = 0.0\n",
    "    running_items = 0.0\n",
    "\n",
    "\n",
    "    for i, data in enumerate(train_loader):\n",
    "        inputs, labels = data[0], data[1]\n",
    "\n",
    "        # Обнуляем градиент\n",
    "        optimizer.zero_grad()\n",
    "        # Делаем предсказание\n",
    "        outputs = my_model(inputs)\n",
    "        # Рассчитываем лосс-функцию\n",
    "        loss = criterion(outputs, labels)\n",
    "        # Делаем шаг назад по лоссу\n",
    "        loss.backward()\n",
    "        # Делаем шаг нашего оптимайзера\n",
    "        optimizer.step()\n",
    "\n",
    "        # выводим статистику о процессе обучения\n",
    "        running_loss += loss.item()\n",
    "        running_items += len(labels)\n",
    "        if i % 300 == 0:    # печатаем каждые 300 mini-batches\n",
    "            print(f'Epoch [{epoch + 1}/{num_epochs}]. ' \\\n",
    "                  f'Step [{i + 1}/{len(train_loader)}]. ' \\\n",
    "                  f'Loss: {running_loss / running_items:.3f}')\n",
    "            running_loss, running_items = 0.0, 0.0\n",
    "\n",
    "print('Training is finished!')"
   ]
  },
  {
   "cell_type": "markdown",
   "id": "55614c15",
   "metadata": {},
   "source": [
    "Веса не меняются, обучения не происходит."
   ]
  },
  {
   "cell_type": "code",
   "execution_count": null,
   "id": "67fbd01d",
   "metadata": {},
   "outputs": [],
   "source": []
  }
 ],
 "metadata": {
  "kernelspec": {
   "display_name": "Python 3",
   "language": "python",
   "name": "python3"
  },
  "language_info": {
   "codemirror_mode": {
    "name": "ipython",
    "version": 3
   },
   "file_extension": ".py",
   "mimetype": "text/x-python",
   "name": "python",
   "nbconvert_exporter": "python",
   "pygments_lexer": "ipython3",
   "version": "3.9.1"
  },
  "toc": {
   "base_numbering": 1,
   "nav_menu": {},
   "number_sections": false,
   "sideBar": true,
   "skip_h1_title": false,
   "title_cell": "Table of Contents",
   "title_sidebar": "Contents",
   "toc_cell": false,
   "toc_position": {},
   "toc_section_display": true,
   "toc_window_display": false
  },
  "varInspector": {
   "cols": {
    "lenName": 16,
    "lenType": 16,
    "lenVar": 40
   },
   "kernels_config": {
    "python": {
     "delete_cmd_postfix": "",
     "delete_cmd_prefix": "del ",
     "library": "var_list.py",
     "varRefreshCmd": "print(var_dic_list())"
    },
    "r": {
     "delete_cmd_postfix": ") ",
     "delete_cmd_prefix": "rm(",
     "library": "var_list.r",
     "varRefreshCmd": "cat(var_dic_list()) "
    }
   },
   "types_to_exclude": [
    "module",
    "function",
    "builtin_function_or_method",
    "instance",
    "_Feature"
   ],
   "window_display": false
  }
 },
 "nbformat": 4,
 "nbformat_minor": 5
}
