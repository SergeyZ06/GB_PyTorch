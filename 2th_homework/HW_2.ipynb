{
 "cells": [
  {
   "cell_type": "markdown",
   "id": "500432cc",
   "metadata": {},
   "source": [
    "# Фреймворк PyTorch для разработки искусственных нейронных сетей"
   ]
  },
  {
   "cell_type": "markdown",
   "id": "276688a1",
   "metadata": {},
   "source": [
    "## Урок 2. Feed-forward neural network"
   ]
  },
  {
   "cell_type": "markdown",
   "id": "02497aab",
   "metadata": {},
   "source": [
    "### Практическое задание"
   ]
  },
  {
   "cell_type": "markdown",
   "id": "8374c617",
   "metadata": {},
   "source": [
    "1. Добиться хорошего результата от модели, собранной на занятии (5 угаданныx картинок из 8 предложенных). Варианты изменений:\n",
    "    - изменение слоёв и их количества;\n",
    "    - изменение метода оптимизации;\n",
    "    - изменение процесса обучения;\n",
    "    - *преобразование данных transform\n",
    "\n",
    "\n",
    "2. *Переписать данный туториал на PyTorch: https://www.tensorflow.org/tutorials/quickstart/beginner?hl=ru"
   ]
  },
  {
   "cell_type": "markdown",
   "id": "0de163e1",
   "metadata": {},
   "source": [
    "### Решение. Задание 1"
   ]
  },
  {
   "cell_type": "markdown",
   "id": "0b0578a5",
   "metadata": {},
   "source": [
    "#### Импорт библиотек"
   ]
  },
  {
   "cell_type": "code",
   "execution_count": 1,
   "id": "b7e49e86",
   "metadata": {},
   "outputs": [],
   "source": [
    "import numpy as np\n",
    "\n",
    "import torch\n",
    "from torch import nn\n",
    "from torch.nn import functional as F\n",
    "\n",
    "import torchvision\n",
    "from torchvision import transforms"
   ]
  },
  {
   "cell_type": "markdown",
   "id": "d80f4bdb",
   "metadata": {},
   "source": [
    "#### Импорт данных"
   ]
  },
  {
   "cell_type": "code",
   "execution_count": 2,
   "id": "57e5b51c",
   "metadata": {
    "scrolled": true
   },
   "outputs": [
    {
     "name": "stdout",
     "output_type": "stream",
     "text": [
      "Files already downloaded and verified\n"
     ]
    }
   ],
   "source": [
    "train_dataset = torchvision.datasets.CIFAR10(root='data/',\n",
    "                                             train=True,  \n",
    "                                             transform=transforms.ToTensor(), \n",
    "                                             download=True)\n",
    "\n",
    "train_loader = torch.utils.data.DataLoader(dataset=train_dataset,\n",
    "                                           batch_size=64, \n",
    "                                           shuffle=True)"
   ]
  },
  {
   "cell_type": "code",
   "execution_count": 3,
   "id": "d392e113",
   "metadata": {},
   "outputs": [
    {
     "name": "stdout",
     "output_type": "stream",
     "text": [
      "Files already downloaded and verified\n"
     ]
    }
   ],
   "source": [
    "test_dataset = torchvision.datasets.CIFAR10(root='./data',\n",
    "                                            train=False,\n",
    "                                            download=True,\n",
    "                                            transform=transforms.ToTensor())\n",
    "\n",
    "test_loader = torch.utils.data.DataLoader(test_dataset,\n",
    "                                          batch_size=8,\n",
    "                                          shuffle=False)"
   ]
  },
  {
   "cell_type": "code",
   "execution_count": 4,
   "id": "a1b36271",
   "metadata": {},
   "outputs": [],
   "source": [
    "classes = ('plane', 'car', 'bird', 'cat', 'deer', 'dog', 'frog', 'horse', 'ship', 'truck')"
   ]
  },
  {
   "cell_type": "markdown",
   "id": "78ad568c",
   "metadata": {},
   "source": [
    "#### Базовая модель"
   ]
  },
  {
   "cell_type": "code",
   "execution_count": 5,
   "id": "2c82e69f",
   "metadata": {},
   "outputs": [],
   "source": [
    "class Net(nn.Module):\n",
    "    def __init__(self, input_dim, hidden_dim, output_dim):\n",
    "        super().__init__()\n",
    "        self.fc1 = nn.Linear(input_dim, 4 * hidden_dim)\n",
    "        self.fc2 = nn.Linear(4 * hidden_dim, 2 * hidden_dim)\n",
    "        self.fc3 = nn.Linear(2 * hidden_dim, hidden_dim)\n",
    "        self.fc4 = nn.Linear(hidden_dim, output_dim)\n",
    "\n",
    "    def forward(self, x):\n",
    "        x = x.view(x.shape[0], -1)\n",
    "        x = self.fc1(x)\n",
    "        x = F.leaky_relu(x)\n",
    "        x = self.fc2(x)\n",
    "        x = F.leaky_relu(x)\n",
    "        x = self.fc3(x)\n",
    "        x = F.leaky_relu(x)\n",
    "        x = self.fc4(x)\n",
    "        return x\n",
    "    \n",
    "    def predict(self, x):\n",
    "        x = x.view(x.shape[0], -1)\n",
    "        x = self.fc1(x)\n",
    "        x = F.leaky_relu(x)\n",
    "        x = self.fc2(x)\n",
    "        x = F.leaky_relu(x)\n",
    "        x = self.fc3(x)\n",
    "        x = F.leaky_relu(x)\n",
    "        x = self.fc4(x)\n",
    "        x = F.softmax(x)\n",
    "        return x"
   ]
  },
  {
   "cell_type": "code",
   "execution_count": 6,
   "id": "1788e3f5",
   "metadata": {},
   "outputs": [
    {
     "name": "stdout",
     "output_type": "stream",
     "text": [
      "Epoch [1/5]. Step [1/782]. Loss: 0.036\n",
      "Epoch [1/5]. Step [301/782]. Loss: 0.036\n",
      "Epoch [1/5]. Step [601/782]. Loss: 0.035\n",
      "Epoch [2/5]. Step [1/782]. Loss: 0.032\n",
      "Epoch [2/5]. Step [301/782]. Loss: 0.032\n",
      "Epoch [2/5]. Step [601/782]. Loss: 0.031\n",
      "Epoch [3/5]. Step [1/782]. Loss: 0.031\n",
      "Epoch [3/5]. Step [301/782]. Loss: 0.030\n",
      "Epoch [3/5]. Step [601/782]. Loss: 0.030\n",
      "Epoch [4/5]. Step [1/782]. Loss: 0.031\n",
      "Epoch [4/5]. Step [301/782]. Loss: 0.029\n",
      "Epoch [4/5]. Step [601/782]. Loss: 0.029\n",
      "Epoch [5/5]. Step [1/782]. Loss: 0.029\n",
      "Epoch [5/5]. Step [301/782]. Loss: 0.028\n",
      "Epoch [5/5]. Step [601/782]. Loss: 0.028\n",
      "Training is finished!\n",
      "Wall time: 38.1 s\n"
     ]
    }
   ],
   "source": [
    "%%time\n",
    "\n",
    "\n",
    "net = Net(3072, 100, 10)\n",
    "net.train()\n",
    "\n",
    "criterion = nn.CrossEntropyLoss()\n",
    "optimizer = torch.optim.SGD(net.parameters(), lr=0.01, momentum=0.0)\n",
    "\n",
    "num_epochs = 5\n",
    "\n",
    "for epoch in range(num_epochs):\n",
    "    running_loss = 0.0\n",
    "    running_items = 0.0\n",
    "\n",
    "\n",
    "    for i, data in enumerate(train_loader):\n",
    "        inputs, labels = data[0], data[1]\n",
    "\n",
    "         # Обнуляем градиент\n",
    "        optimizer.zero_grad()\n",
    "        # Делаем предсказание\n",
    "        outputs = net(inputs)\n",
    "        # Рассчитываем лосс-функцию\n",
    "        loss = criterion(outputs, labels)\n",
    "        # Делаем шаг назад по лоссу\n",
    "        loss.backward()\n",
    "        # Делаем шаг нашего оптимайзера\n",
    "        optimizer.step()\n",
    "\n",
    "        # выводим статистику о процессе обучения\n",
    "        running_loss += loss.item()\n",
    "        running_items += len(labels)\n",
    "        if i % 300 == 0:    # печатаем каждые 300 mini-batches\n",
    "            print(f'Epoch [{epoch + 1}/{num_epochs}]. ' \\\n",
    "                  f'Step [{i + 1}/{len(train_loader)}]. ' \\\n",
    "                  f'Loss: {running_loss / running_items:.3f}')\n",
    "            running_loss, running_items = 0.0, 0.0\n",
    "\n",
    "print('Training is finished!')"
   ]
  },
  {
   "cell_type": "code",
   "execution_count": 7,
   "id": "f89d3fa8",
   "metadata": {},
   "outputs": [
    {
     "name": "stdout",
     "output_type": "stream",
     "text": [
      "['cat' 'ship' 'ship' 'plane' 'frog' 'frog' 'car' 'frog']\n",
      "['dog' 'ship' 'ship' 'ship' 'deer' 'frog' 'dog' 'deer']\n",
      "Accuracy is 0.375\n"
     ]
    }
   ],
   "source": [
    "data_iter = iter(test_loader)\n",
    "images, labels = data_iter.next()\n",
    "\n",
    "net.eval()\n",
    "outputs = net(images)\n",
    "\n",
    "_, predicted = torch.max(outputs, 1)\n",
    "\n",
    "gt = np.array([classes[labels[j]] for j in range(len(labels))])\n",
    "pred = np.array([classes[predicted[j]] for j in range(len(labels))])\n",
    "\n",
    "print(gt)\n",
    "print(pred)\n",
    "print(f'Accuracy is {(gt == pred).sum() / len(gt)}')"
   ]
  },
  {
   "cell_type": "markdown",
   "id": "87892b29",
   "metadata": {},
   "source": [
    "#### Доработанная модель"
   ]
  },
  {
   "cell_type": "code",
   "execution_count": 8,
   "id": "125f3e27",
   "metadata": {},
   "outputs": [],
   "source": [
    "class Net(nn.Module):\n",
    "    def __init__(self, input_dim, hidden_dim, output_dim):\n",
    "        super().__init__()\n",
    "        # Изменение: новый слой.\n",
    "        self.fc1 = nn.Linear(input_dim, 8 * hidden_dim)\n",
    "        self.fc2 = nn.Linear(8 * hidden_dim, 4 * hidden_dim)\n",
    "        self.fc3 = nn.Linear(4 * hidden_dim, 2 * hidden_dim)\n",
    "        self.fc4 = nn.Linear(2 * hidden_dim, hidden_dim)\n",
    "        self.fc5 = nn.Linear(hidden_dim, output_dim)\n",
    "\n",
    "    def forward(self, x):\n",
    "        x = x.view(x.shape[0], -1)\n",
    "        # Изменение: новый слой.\n",
    "        x = self.fc1(x)\n",
    "        x = F.leaky_relu(x)\n",
    "        x = self.fc2(x)\n",
    "        x = F.leaky_relu(x)\n",
    "        x = self.fc3(x)\n",
    "        x = F.leaky_relu(x)\n",
    "        x = self.fc4(x)\n",
    "        x = F.leaky_relu(x)\n",
    "        x = self.fc5(x)\n",
    "        return x\n",
    "    \n",
    "    def predict(self, x):\n",
    "        x = x.view(x.shape[0], -1)\n",
    "        # Изменение: новый слой.\n",
    "        x = self.fc1(x)\n",
    "        x = F.leaky_relu(x)\n",
    "        x = self.fc2(x)\n",
    "        x = F.leaky_relu(x)\n",
    "        x = self.fc3(x)\n",
    "        x = F.leaky_relu(x)\n",
    "        x = self.fc4(x)\n",
    "        x = F.leaky_relu(x)\n",
    "        x = self.fc5(x)\n",
    "        x = F.softmax(x)\n",
    "        return x"
   ]
  },
  {
   "cell_type": "code",
   "execution_count": 9,
   "id": "d83b0804",
   "metadata": {},
   "outputs": [
    {
     "name": "stdout",
     "output_type": "stream",
     "text": [
      "Epoch [1/5]. Step [1/782]. Loss: 0.036\n",
      "Epoch [1/5]. Step [301/782]. Loss: 0.032\n",
      "Epoch [1/5]. Step [601/782]. Loss: 0.029\n",
      "Epoch [2/5]. Step [1/782]. Loss: 0.029\n",
      "Epoch [2/5]. Step [301/782]. Loss: 0.027\n",
      "Epoch [2/5]. Step [601/782]. Loss: 0.027\n",
      "Epoch [3/5]. Step [1/782]. Loss: 0.026\n",
      "Epoch [3/5]. Step [301/782]. Loss: 0.026\n",
      "Epoch [3/5]. Step [601/782]. Loss: 0.025\n",
      "Epoch [4/5]. Step [1/782]. Loss: 0.025\n",
      "Epoch [4/5]. Step [301/782]. Loss: 0.024\n",
      "Epoch [4/5]. Step [601/782]. Loss: 0.024\n",
      "Epoch [5/5]. Step [1/782]. Loss: 0.025\n",
      "Epoch [5/5]. Step [301/782]. Loss: 0.024\n",
      "Epoch [5/5]. Step [601/782]. Loss: 0.023\n",
      "Training is finished!\n",
      "Wall time: 1min 28s\n"
     ]
    }
   ],
   "source": [
    "%%time\n",
    "\n",
    "\n",
    "net = Net(3072, 100, 10)\n",
    "net.train()\n",
    "\n",
    "criterion = nn.CrossEntropyLoss()\n",
    "# Изменение: метод оптимизации Adam.\n",
    "optimizer = torch.optim.Adam(net.parameters())\n",
    "\n",
    "num_epochs = 5\n",
    "\n",
    "for epoch in range(num_epochs):\n",
    "    running_loss = 0.0\n",
    "    running_items = 0.0\n",
    "\n",
    "\n",
    "    for i, data in enumerate(train_loader):\n",
    "        inputs, labels = data[0], data[1]\n",
    "\n",
    "         # Обнуляем градиент\n",
    "        optimizer.zero_grad()\n",
    "        # Делаем предсказание\n",
    "        outputs = net(inputs)\n",
    "        # Рассчитываем лосс-функцию\n",
    "        loss = criterion(outputs, labels)\n",
    "        # Делаем шаг назад по лоссу\n",
    "        loss.backward()\n",
    "        # Делаем шаг нашего оптимайзера\n",
    "        optimizer.step()\n",
    "\n",
    "        # выводим статистику о процессе обучения\n",
    "        running_loss += loss.item()\n",
    "        running_items += len(labels)\n",
    "        if i % 300 == 0:    # печатаем каждые 300 mini-batches\n",
    "            print(f'Epoch [{epoch + 1}/{num_epochs}]. ' \\\n",
    "                  f'Step [{i + 1}/{len(train_loader)}]. ' \\\n",
    "                  f'Loss: {running_loss / running_items:.3f}')\n",
    "            running_loss, running_items = 0.0, 0.0\n",
    "\n",
    "print('Training is finished!')"
   ]
  },
  {
   "cell_type": "code",
   "execution_count": 10,
   "id": "25edab4d",
   "metadata": {
    "scrolled": true
   },
   "outputs": [
    {
     "name": "stdout",
     "output_type": "stream",
     "text": [
      "['cat' 'ship' 'ship' 'plane' 'frog' 'frog' 'car' 'frog']\n",
      "['cat' 'ship' 'ship' 'plane' 'deer' 'frog' 'cat' 'bird']\n",
      "Accuracy is 0.625\n"
     ]
    }
   ],
   "source": [
    "data_iter = iter(test_loader)\n",
    "images, labels = data_iter.next()\n",
    "\n",
    "net.eval()\n",
    "outputs = net(images)\n",
    "\n",
    "_, predicted = torch.max(outputs, 1)\n",
    "\n",
    "gt = np.array([classes[labels[j]] for j in range(len(labels))])\n",
    "pred = np.array([classes[predicted[j]] for j in range(len(labels))])\n",
    "\n",
    "print(gt)\n",
    "print(pred)\n",
    "print(f'Accuracy is {(gt == pred).sum() / len(gt)}')"
   ]
  },
  {
   "cell_type": "markdown",
   "id": "b0d43f00",
   "metadata": {},
   "source": [
    "Из-за усложнения модели время обучения увеличилось почти в три раза.\n",
    "\n",
    "Пять из восьми объектов были корректно идентифицированы моделью.\n",
    "\n",
    "Для улучшения результата прогноза модели потребовалось увеличить количество скрытых слоёв, а также изменить метод оптимизации на наиболее совершенный Adam."
   ]
  },
  {
   "cell_type": "code",
   "execution_count": null,
   "id": "700862f1",
   "metadata": {},
   "outputs": [],
   "source": []
  }
 ],
 "metadata": {
  "kernelspec": {
   "display_name": "Python 3",
   "language": "python",
   "name": "python3"
  },
  "language_info": {
   "codemirror_mode": {
    "name": "ipython",
    "version": 3
   },
   "file_extension": ".py",
   "mimetype": "text/x-python",
   "name": "python",
   "nbconvert_exporter": "python",
   "pygments_lexer": "ipython3",
   "version": "3.9.1"
  },
  "toc": {
   "base_numbering": 1,
   "nav_menu": {},
   "number_sections": false,
   "sideBar": true,
   "skip_h1_title": false,
   "title_cell": "Table of Contents",
   "title_sidebar": "Contents",
   "toc_cell": false,
   "toc_position": {},
   "toc_section_display": true,
   "toc_window_display": false
  },
  "varInspector": {
   "cols": {
    "lenName": 16,
    "lenType": 16,
    "lenVar": 40
   },
   "kernels_config": {
    "python": {
     "delete_cmd_postfix": "",
     "delete_cmd_prefix": "del ",
     "library": "var_list.py",
     "varRefreshCmd": "print(var_dic_list())"
    },
    "r": {
     "delete_cmd_postfix": ") ",
     "delete_cmd_prefix": "rm(",
     "library": "var_list.r",
     "varRefreshCmd": "cat(var_dic_list()) "
    }
   },
   "types_to_exclude": [
    "module",
    "function",
    "builtin_function_or_method",
    "instance",
    "_Feature"
   ],
   "window_display": false
  }
 },
 "nbformat": 4,
 "nbformat_minor": 5
}
